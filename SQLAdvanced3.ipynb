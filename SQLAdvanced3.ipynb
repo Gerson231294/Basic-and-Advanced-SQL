{
 "cells": [
  {
   "cell_type": "markdown",
   "metadata": {},
   "source": [
    "### Advanced SQL"
   ]
  },
  {
   "cell_type": "code",
   "execution_count": 1,
   "metadata": {
    "collapsed": false
   },
   "outputs": [
    {
     "data": {
      "text/plain": [
       "'Connected: None@None'"
      ]
     },
     "execution_count": 1,
     "metadata": {},
     "output_type": "execute_result"
    }
   ],
   "source": [
    "import pandas as pd\n",
    "%load_ext sql\n",
    "%sql sqlite://"
   ]
  },
  {
   "cell_type": "code",
   "execution_count": 2,
   "metadata": {
    "collapsed": true
   },
   "outputs": [],
   "source": [
    "# For compatibility across multiple platforms\n",
    "import os\n",
    "IB = os.environ.get('INSTABASE_URI',None) is not None\n",
    "open = ib.open if IB else open"
   ]
  },
  {
   "cell_type": "code",
   "execution_count": 3,
   "metadata": {
    "collapsed": false
   },
   "outputs": [
    {
     "name": "stdout",
     "output_type": "stream",
     "text": [
      "Done.\n",
      "Done.\n",
      "Done.\n",
      "Done.\n"
     ]
    },
    {
     "data": {
      "text/plain": [
       "'Persisted teams'"
      ]
     },
     "execution_count": 3,
     "metadata": {},
     "output_type": "execute_result"
    }
   ],
   "source": [
    "# Load tables from CSV files\n",
    "# Cities\n",
    "with open('Cities.csv','r') as f:\n",
    "    Cities = pd.read_csv(f, index_col=0, encoding='utf-8')\n",
    "%sql drop table if exists Cities;\n",
    "%sql persist Cities\n",
    "# Countries\n",
    "with open('Countries.csv','r') as f:\n",
    "    Countries = pd.read_csv(f, index_col=0, encoding='utf-8')\n",
    "%sql drop table if exists Countries;\n",
    "%sql persist Countries\n",
    "# Players\n",
    "with open('Players.csv','r') as f:\n",
    "    Players = pd.read_csv(f, index_col=0, encoding='utf-8')\n",
    "%sql drop table if exists Players;\n",
    "%sql persist Players\n",
    "# Teams\n",
    "with open('Teams.csv','r') as f:\n",
    "    Teams = pd.read_csv(f, index_col=0, encoding='utf-8')\n",
    "%sql drop table if exists Teams;\n",
    "%sql persist Teams"
   ]
  },
  {
   "cell_type": "markdown",
   "metadata": {},
   "source": [
    "#### Look at sample of Cities and Countries tables"
   ]
  },
  {
   "cell_type": "code",
   "execution_count": 4,
   "metadata": {
    "collapsed": false
   },
   "outputs": [
    {
     "name": "stdout",
     "output_type": "stream",
     "text": [
      "Done.\n"
     ]
    },
    {
     "data": {
      "text/html": [
       "<table>\n",
       "    <tr>\n",
       "        <th>city</th>\n",
       "        <th>country</th>\n",
       "        <th>latitude</th>\n",
       "        <th>longitude</th>\n",
       "        <th>temperature</th>\n",
       "    </tr>\n",
       "    <tr>\n",
       "        <td>Aalborg</td>\n",
       "        <td>Denmark</td>\n",
       "        <td>57.03</td>\n",
       "        <td>9.92</td>\n",
       "        <td>7.52</td>\n",
       "    </tr>\n",
       "    <tr>\n",
       "        <td>Aberdeen</td>\n",
       "        <td>United Kingdom</td>\n",
       "        <td>57.17</td>\n",
       "        <td>-2.08</td>\n",
       "        <td>8.1</td>\n",
       "    </tr>\n",
       "    <tr>\n",
       "        <td>Abisko</td>\n",
       "        <td>Sweden</td>\n",
       "        <td>63.35</td>\n",
       "        <td>18.83</td>\n",
       "        <td>0.2</td>\n",
       "    </tr>\n",
       "    <tr>\n",
       "        <td>Adana</td>\n",
       "        <td>Turkey</td>\n",
       "        <td>36.99</td>\n",
       "        <td>35.32</td>\n",
       "        <td>18.67</td>\n",
       "    </tr>\n",
       "    <tr>\n",
       "        <td>Albacete</td>\n",
       "        <td>Spain</td>\n",
       "        <td>39.0</td>\n",
       "        <td>-1.87</td>\n",
       "        <td>12.62</td>\n",
       "    </tr>\n",
       "</table>"
      ],
      "text/plain": [
       "[('Aalborg', 'Denmark', 57.03, 9.92, 7.52),\n",
       " ('Aberdeen', 'United Kingdom', 57.17, -2.08, 8.1),\n",
       " ('Abisko', 'Sweden', 63.35, 18.83, 0.2),\n",
       " ('Adana', 'Turkey', 36.99, 35.32, 18.67),\n",
       " ('Albacete', 'Spain', 39.0, -1.87, 12.62)]"
      ]
     },
     "execution_count": 4,
     "metadata": {},
     "output_type": "execute_result"
    }
   ],
   "source": [
    "%%sql\n",
    "select * from Cities limit 5"
   ]
  },
  {
   "cell_type": "code",
   "execution_count": 5,
   "metadata": {
    "collapsed": false
   },
   "outputs": [
    {
     "name": "stdout",
     "output_type": "stream",
     "text": [
      "Done.\n"
     ]
    },
    {
     "data": {
      "text/html": [
       "<table>\n",
       "    <tr>\n",
       "        <th>country</th>\n",
       "        <th>population</th>\n",
       "        <th>EU</th>\n",
       "        <th>coastline</th>\n",
       "    </tr>\n",
       "    <tr>\n",
       "        <td>Albania</td>\n",
       "        <td>2.9</td>\n",
       "        <td>no</td>\n",
       "        <td>yes</td>\n",
       "    </tr>\n",
       "    <tr>\n",
       "        <td>Andorra</td>\n",
       "        <td>0.07</td>\n",
       "        <td>no</td>\n",
       "        <td>no</td>\n",
       "    </tr>\n",
       "    <tr>\n",
       "        <td>Austria</td>\n",
       "        <td>8.57</td>\n",
       "        <td>yes</td>\n",
       "        <td>no</td>\n",
       "    </tr>\n",
       "    <tr>\n",
       "        <td>Belarus</td>\n",
       "        <td>9.48</td>\n",
       "        <td>no</td>\n",
       "        <td>no</td>\n",
       "    </tr>\n",
       "    <tr>\n",
       "        <td>Belgium</td>\n",
       "        <td>11.37</td>\n",
       "        <td>yes</td>\n",
       "        <td>yes</td>\n",
       "    </tr>\n",
       "</table>"
      ],
      "text/plain": [
       "[('Albania', 2.9, 'no', 'yes'),\n",
       " ('Andorra', 0.07, 'no', 'no'),\n",
       " ('Austria', 8.57, 'yes', 'no'),\n",
       " ('Belarus', 9.48, 'no', 'no'),\n",
       " ('Belgium', 11.37, 'yes', 'yes')]"
      ]
     },
     "execution_count": 5,
     "metadata": {},
     "output_type": "execute_result"
    }
   ],
   "source": [
    "%%sql\n",
    "select * from Countries limit 5"
   ]
  },
  {
   "cell_type": "markdown",
   "metadata": {},
   "source": [
    "### Duplicates, table variables"
   ]
  },
  {
   "cell_type": "markdown",
   "metadata": {},
   "source": [
    "*Warm-up: Find all cities in the EU with temperature > 15*"
   ]
  },
  {
   "cell_type": "code",
   "execution_count": 6,
   "metadata": {
    "collapsed": false
   },
   "outputs": [
    {
     "name": "stdout",
     "output_type": "stream",
     "text": [
      "Done.\n"
     ]
    },
    {
     "data": {
      "text/html": [
       "<table>\n",
       "    <tr>\n",
       "        <th>city</th>\n",
       "    </tr>\n",
       "    <tr>\n",
       "        <td>Algeciras</td>\n",
       "    </tr>\n",
       "    <tr>\n",
       "        <td>Athens</td>\n",
       "    </tr>\n",
       "    <tr>\n",
       "        <td>Badajoz</td>\n",
       "    </tr>\n",
       "    <tr>\n",
       "        <td>Barcelona</td>\n",
       "    </tr>\n",
       "    <tr>\n",
       "        <td>Bari</td>\n",
       "    </tr>\n",
       "    <tr>\n",
       "        <td>Cartagena</td>\n",
       "    </tr>\n",
       "    <tr>\n",
       "        <td>Catania</td>\n",
       "    </tr>\n",
       "    <tr>\n",
       "        <td>Cosenza</td>\n",
       "    </tr>\n",
       "    <tr>\n",
       "        <td>Granada</td>\n",
       "    </tr>\n",
       "    <tr>\n",
       "        <td>Huelva</td>\n",
       "    </tr>\n",
       "    <tr>\n",
       "        <td>Kalamata</td>\n",
       "    </tr>\n",
       "    <tr>\n",
       "        <td>Lisbon</td>\n",
       "    </tr>\n",
       "    <tr>\n",
       "        <td>Marbella</td>\n",
       "    </tr>\n",
       "    <tr>\n",
       "        <td>Messina</td>\n",
       "    </tr>\n",
       "    <tr>\n",
       "        <td>Palermo</td>\n",
       "    </tr>\n",
       "    <tr>\n",
       "        <td>Patras</td>\n",
       "    </tr>\n",
       "    <tr>\n",
       "        <td>Pescara</td>\n",
       "    </tr>\n",
       "    <tr>\n",
       "        <td>Rome</td>\n",
       "    </tr>\n",
       "    <tr>\n",
       "        <td>Trikala</td>\n",
       "    </tr>\n",
       "    <tr>\n",
       "        <td>Valencia</td>\n",
       "    </tr>\n",
       "</table>"
      ],
      "text/plain": [
       "[('Algeciras',),\n",
       " ('Athens',),\n",
       " ('Badajoz',),\n",
       " ('Barcelona',),\n",
       " ('Bari',),\n",
       " ('Cartagena',),\n",
       " ('Catania',),\n",
       " ('Cosenza',),\n",
       " ('Granada',),\n",
       " ('Huelva',),\n",
       " ('Kalamata',),\n",
       " ('Lisbon',),\n",
       " ('Marbella',),\n",
       " ('Messina',),\n",
       " ('Palermo',),\n",
       " ('Patras',),\n",
       " ('Pescara',),\n",
       " ('Rome',),\n",
       " ('Trikala',),\n",
       " ('Valencia',)]"
      ]
     },
     "execution_count": 6,
     "metadata": {},
     "output_type": "execute_result"
    }
   ],
   "source": [
    "%%sql\n",
    "select city\n",
    "from Cities, Countries\n",
    "where Cities.country = Countries.country\n",
    "and EU = 'yes' and temperature > 15"
   ]
  },
  {
   "cell_type": "markdown",
   "metadata": {},
   "source": [
    "*Modify previous query to: (1) return country instead of city (2) remove duplicates (3) change to non-EU (4) use table variables*"
   ]
  },
  {
   "cell_type": "code",
   "execution_count": 7,
   "metadata": {
    "collapsed": false
   },
   "outputs": [
    {
     "name": "stdout",
     "output_type": "stream",
     "text": [
      "Done.\n"
     ]
    },
    {
     "data": {
      "text/html": [
       "<table>\n",
       "    <tr>\n",
       "        <th>country</th>\n",
       "    </tr>\n",
       "    <tr>\n",
       "        <td>Turkey</td>\n",
       "    </tr>\n",
       "    <tr>\n",
       "        <td>Albania</td>\n",
       "    </tr>\n",
       "</table>"
      ],
      "text/plain": [
       "[('Turkey',), ('Albania',)]"
      ]
     },
     "execution_count": 7,
     "metadata": {},
     "output_type": "execute_result"
    }
   ],
   "source": [
    "%%sql\n",
    "select DISTINCT Cities.country\n",
    "from Cities, Countries\n",
    "where Cities.country = Countries.country\n",
    "and EU = 'no' and temperature > 15"
   ]
  },
  {
   "cell_type": "markdown",
   "metadata": {},
   "source": [
    "*Find all pairs of cities with the same longitude; return the city pairs and their (shared) longitude*"
   ]
  },
  {
   "cell_type": "code",
   "execution_count": 8,
   "metadata": {
    "collapsed": false
   },
   "outputs": [
    {
     "name": "stdout",
     "output_type": "stream",
     "text": [
      "Done.\n"
     ]
    },
    {
     "data": {
      "text/html": [
       "<table>\n",
       "    <tr>\n",
       "        <th>city</th>\n",
       "        <th>city_1</th>\n",
       "        <th>longitude</th>\n",
       "    </tr>\n",
       "    <tr>\n",
       "        <td>Burgos</td>\n",
       "        <td>Madrid</td>\n",
       "        <td>-3.68</td>\n",
       "    </tr>\n",
       "    <tr>\n",
       "        <td>Craiova</td>\n",
       "        <td>Hrodna</td>\n",
       "        <td>23.83</td>\n",
       "    </tr>\n",
       "    <tr>\n",
       "        <td>Maastricht</td>\n",
       "        <td>Stavanger</td>\n",
       "        <td>5.68</td>\n",
       "    </tr>\n",
       "</table>"
      ],
      "text/plain": [
       "[('Burgos', 'Madrid', -3.68),\n",
       " ('Craiova', 'Hrodna', 23.83),\n",
       " ('Maastricht', 'Stavanger', 5.68)]"
      ]
     },
     "execution_count": 8,
     "metadata": {},
     "output_type": "execute_result"
    }
   ],
   "source": [
    "%%sql\n",
    "select C1.city, C2.city, C1.longitude\n",
    "from Cities C1, Cities C2\n",
    "where C1.longitude = C2.longitude\n",
    "and C1.city < C2.city"
   ]
  },
  {
   "cell_type": "markdown",
   "metadata": {},
   "source": [
    "*Find all pairs of cities that are near each other, i.e., lat and lng are both less than 0.5 apart; return city pairs*"
   ]
  },
  {
   "cell_type": "code",
   "execution_count": 9,
   "metadata": {
    "collapsed": false
   },
   "outputs": [
    {
     "name": "stdout",
     "output_type": "stream",
     "text": [
      "Done.\n"
     ]
    },
    {
     "data": {
      "text/html": [
       "<table>\n",
       "    <tr>\n",
       "        <th>city</th>\n",
       "        <th>city_1</th>\n",
       "    </tr>\n",
       "    <tr>\n",
       "        <td>Adana</td>\n",
       "        <td>Tarsus</td>\n",
       "    </tr>\n",
       "    <tr>\n",
       "        <td>Ancona</td>\n",
       "        <td>Sarajevo</td>\n",
       "    </tr>\n",
       "    <tr>\n",
       "        <td>Basel</td>\n",
       "        <td>Freiburg</td>\n",
       "    </tr>\n",
       "    <tr>\n",
       "        <td>Basel</td>\n",
       "        <td>Mulhouse</td>\n",
       "    </tr>\n",
       "    <tr>\n",
       "        <td>Bergamo</td>\n",
       "        <td>Milan</td>\n",
       "    </tr>\n",
       "    <tr>\n",
       "        <td>Cartagena</td>\n",
       "        <td>Murcia</td>\n",
       "    </tr>\n",
       "    <tr>\n",
       "        <td>Heidelberg</td>\n",
       "        <td>Karlsruhe</td>\n",
       "    </tr>\n",
       "    <tr>\n",
       "        <td>Horlivka</td>\n",
       "        <td>Makiyivka</td>\n",
       "    </tr>\n",
       "</table>"
      ],
      "text/plain": [
       "[('Adana', 'Tarsus'),\n",
       " ('Ancona', 'Sarajevo'),\n",
       " ('Basel', 'Freiburg'),\n",
       " ('Basel', 'Mulhouse'),\n",
       " ('Bergamo', 'Milan'),\n",
       " ('Cartagena', 'Murcia'),\n",
       " ('Heidelberg', 'Karlsruhe'),\n",
       " ('Horlivka', 'Makiyivka')]"
      ]
     },
     "execution_count": 9,
     "metadata": {},
     "output_type": "execute_result"
    }
   ],
   "source": [
    "%%sql\n",
    "select C1.city, C2.city\n",
    "from Cities C1, Cities C2\n",
    "where abs(C1.longitude - C2.longitude) < .5\n",
    "and abs(C1.latitude - C2.latitude) < .5\n",
    "and C1.city < C2.city"
   ]
  },
  {
   "cell_type": "markdown",
   "metadata": {},
   "source": [
    "### <font color = 'green'>Your Turn</font>"
   ]
  },
  {
   "cell_type": "markdown",
   "metadata": {
    "collapsed": true
   },
   "source": [
    "*Find all pairs of cities with the same temperature. Return the city pairs along with their shared temperature. What do you think about the data after seeing the answer?*"
   ]
  },
  {
   "cell_type": "code",
   "execution_count": 10,
   "metadata": {
    "collapsed": false
   },
   "outputs": [
    {
     "name": "stdout",
     "output_type": "stream",
     "text": [
      "Done.\n"
     ]
    },
    {
     "data": {
      "text/html": [
       "<table>\n",
       "    <tr>\n",
       "        <th>city</th>\n",
       "        <th>city_1</th>\n",
       "        <th>temperature</th>\n",
       "    </tr>\n",
       "    <tr>\n",
       "        <td>Andorra</td>\n",
       "        <td>Sarajevo</td>\n",
       "        <td>9.6</td>\n",
       "    </tr>\n",
       "    <tr>\n",
       "        <td>Augsburg</td>\n",
       "        <td>Innsbruck</td>\n",
       "        <td>4.54</td>\n",
       "    </tr>\n",
       "    <tr>\n",
       "        <td>Baia Mare</td>\n",
       "        <td>Debrecen</td>\n",
       "        <td>8.87</td>\n",
       "    </tr>\n",
       "    <tr>\n",
       "        <td>Balti</td>\n",
       "        <td>Botosani</td>\n",
       "        <td>8.23</td>\n",
       "    </tr>\n",
       "    <tr>\n",
       "        <td>Basel</td>\n",
       "        <td>Elblag</td>\n",
       "        <td>6.68</td>\n",
       "    </tr>\n",
       "    <tr>\n",
       "        <td>Basel</td>\n",
       "        <td>Freiburg</td>\n",
       "        <td>6.68</td>\n",
       "    </tr>\n",
       "    <tr>\n",
       "        <td>Basel</td>\n",
       "        <td>Mulhouse</td>\n",
       "        <td>6.68</td>\n",
       "    </tr>\n",
       "    <tr>\n",
       "        <td>Basel</td>\n",
       "        <td>Zurich</td>\n",
       "        <td>6.68</td>\n",
       "    </tr>\n",
       "    <tr>\n",
       "        <td>Bialystok</td>\n",
       "        <td>Hrodna</td>\n",
       "        <td>6.07</td>\n",
       "    </tr>\n",
       "    <tr>\n",
       "        <td>Bonn</td>\n",
       "        <td>Maastricht</td>\n",
       "        <td>8.63</td>\n",
       "    </tr>\n",
       "    <tr>\n",
       "        <td>Bratislava</td>\n",
       "        <td>Brugge</td>\n",
       "        <td>9.65</td>\n",
       "    </tr>\n",
       "    <tr>\n",
       "        <td>Bratislava</td>\n",
       "        <td>Gyor</td>\n",
       "        <td>9.65</td>\n",
       "    </tr>\n",
       "    <tr>\n",
       "        <td>Bratislava</td>\n",
       "        <td>Lille</td>\n",
       "        <td>9.65</td>\n",
       "    </tr>\n",
       "    <tr>\n",
       "        <td>Brno</td>\n",
       "        <td>Vienna</td>\n",
       "        <td>7.86</td>\n",
       "    </tr>\n",
       "    <tr>\n",
       "        <td>Brugge</td>\n",
       "        <td>Gyor</td>\n",
       "        <td>9.65</td>\n",
       "    </tr>\n",
       "    <tr>\n",
       "        <td>Brugge</td>\n",
       "        <td>Lille</td>\n",
       "        <td>9.65</td>\n",
       "    </tr>\n",
       "    <tr>\n",
       "        <td>Bucharest</td>\n",
       "        <td>Le Mans</td>\n",
       "        <td>10.59</td>\n",
       "    </tr>\n",
       "    <tr>\n",
       "        <td>Bucharest</td>\n",
       "        <td>Ruse</td>\n",
       "        <td>10.59</td>\n",
       "    </tr>\n",
       "    <tr>\n",
       "        <td>Bytom</td>\n",
       "        <td>Ostrava</td>\n",
       "        <td>7.66</td>\n",
       "    </tr>\n",
       "    <tr>\n",
       "        <td>Chemnitz</td>\n",
       "        <td>Prague</td>\n",
       "        <td>8.05</td>\n",
       "    </tr>\n",
       "    <tr>\n",
       "        <td>Chemnitz</td>\n",
       "        <td>Sivas</td>\n",
       "        <td>8.05</td>\n",
       "    </tr>\n",
       "    <tr>\n",
       "        <td>Chisinau</td>\n",
       "        <td>Glasgow</td>\n",
       "        <td>8.6</td>\n",
       "    </tr>\n",
       "    <tr>\n",
       "        <td>Craiova</td>\n",
       "        <td>Pleven</td>\n",
       "        <td>10.51</td>\n",
       "    </tr>\n",
       "    <tr>\n",
       "        <td>Daugavpils</td>\n",
       "        <td>Vilnius</td>\n",
       "        <td>5.38</td>\n",
       "    </tr>\n",
       "    <tr>\n",
       "        <td>Edinburgh</td>\n",
       "        <td>Kremenchuk</td>\n",
       "        <td>7.43</td>\n",
       "    </tr>\n",
       "    <tr>\n",
       "        <td>Edirne</td>\n",
       "        <td>Stara Zagora</td>\n",
       "        <td>10.9</td>\n",
       "    </tr>\n",
       "    <tr>\n",
       "        <td>Elblag</td>\n",
       "        <td>Freiburg</td>\n",
       "        <td>6.68</td>\n",
       "    </tr>\n",
       "    <tr>\n",
       "        <td>Elblag</td>\n",
       "        <td>Mulhouse</td>\n",
       "        <td>6.68</td>\n",
       "    </tr>\n",
       "    <tr>\n",
       "        <td>Elblag</td>\n",
       "        <td>Zurich</td>\n",
       "        <td>6.68</td>\n",
       "    </tr>\n",
       "    <tr>\n",
       "        <td>Eskisehir</td>\n",
       "        <td>Montpellier</td>\n",
       "        <td>11.11</td>\n",
       "    </tr>\n",
       "    <tr>\n",
       "        <td>Freiburg</td>\n",
       "        <td>Mulhouse</td>\n",
       "        <td>6.68</td>\n",
       "    </tr>\n",
       "    <tr>\n",
       "        <td>Freiburg</td>\n",
       "        <td>Zurich</td>\n",
       "        <td>6.68</td>\n",
       "    </tr>\n",
       "    <tr>\n",
       "        <td>Geneva</td>\n",
       "        <td>Grenoble</td>\n",
       "        <td>8.4</td>\n",
       "    </tr>\n",
       "    <tr>\n",
       "        <td>Gyor</td>\n",
       "        <td>Lille</td>\n",
       "        <td>9.65</td>\n",
       "    </tr>\n",
       "    <tr>\n",
       "        <td>Karlsruhe</td>\n",
       "        <td>Metz</td>\n",
       "        <td>8.88</td>\n",
       "    </tr>\n",
       "    <tr>\n",
       "        <td>Koszalin</td>\n",
       "        <td>Odense</td>\n",
       "        <td>7.73</td>\n",
       "    </tr>\n",
       "    <tr>\n",
       "        <td>Le Mans</td>\n",
       "        <td>Ruse</td>\n",
       "        <td>10.59</td>\n",
       "    </tr>\n",
       "    <tr>\n",
       "        <td>Ljubljana</td>\n",
       "        <td>Rijeka</td>\n",
       "        <td>9.27</td>\n",
       "    </tr>\n",
       "    <tr>\n",
       "        <td>Manisa</td>\n",
       "        <td>Rome</td>\n",
       "        <td>15.1</td>\n",
       "    </tr>\n",
       "    <tr>\n",
       "        <td>Mulhouse</td>\n",
       "        <td>Zurich</td>\n",
       "        <td>6.68</td>\n",
       "    </tr>\n",
       "    <tr>\n",
       "        <td>Nis</td>\n",
       "        <td>Skopje</td>\n",
       "        <td>9.36</td>\n",
       "    </tr>\n",
       "    <tr>\n",
       "        <td>Novi Sad</td>\n",
       "        <td>Szeged</td>\n",
       "        <td>10.34</td>\n",
       "    </tr>\n",
       "    <tr>\n",
       "        <td>Prague</td>\n",
       "        <td>Sivas</td>\n",
       "        <td>8.05</td>\n",
       "    </tr>\n",
       "    <tr>\n",
       "        <td>Tarsus</td>\n",
       "        <td>Trieste</td>\n",
       "        <td>11.21</td>\n",
       "    </tr>\n",
       "</table>"
      ],
      "text/plain": [
       "[('Andorra', 'Sarajevo', 9.6),\n",
       " ('Augsburg', 'Innsbruck', 4.54),\n",
       " ('Baia Mare', 'Debrecen', 8.87),\n",
       " ('Balti', 'Botosani', 8.23),\n",
       " ('Basel', 'Elblag', 6.68),\n",
       " ('Basel', 'Freiburg', 6.68),\n",
       " ('Basel', 'Mulhouse', 6.68),\n",
       " ('Basel', 'Zurich', 6.68),\n",
       " ('Bialystok', 'Hrodna', 6.07),\n",
       " ('Bonn', 'Maastricht', 8.63),\n",
       " ('Bratislava', 'Brugge', 9.65),\n",
       " ('Bratislava', 'Gyor', 9.65),\n",
       " ('Bratislava', 'Lille', 9.65),\n",
       " ('Brno', 'Vienna', 7.86),\n",
       " ('Brugge', 'Gyor', 9.65),\n",
       " ('Brugge', 'Lille', 9.65),\n",
       " ('Bucharest', 'Le Mans', 10.59),\n",
       " ('Bucharest', 'Ruse', 10.59),\n",
       " ('Bytom', 'Ostrava', 7.66),\n",
       " ('Chemnitz', 'Prague', 8.05),\n",
       " ('Chemnitz', 'Sivas', 8.05),\n",
       " ('Chisinau', 'Glasgow', 8.6),\n",
       " ('Craiova', 'Pleven', 10.51),\n",
       " ('Daugavpils', 'Vilnius', 5.38),\n",
       " ('Edinburgh', 'Kremenchuk', 7.43),\n",
       " ('Edirne', 'Stara Zagora', 10.9),\n",
       " ('Elblag', 'Freiburg', 6.68),\n",
       " ('Elblag', 'Mulhouse', 6.68),\n",
       " ('Elblag', 'Zurich', 6.68),\n",
       " ('Eskisehir', 'Montpellier', 11.11),\n",
       " ('Freiburg', 'Mulhouse', 6.68),\n",
       " ('Freiburg', 'Zurich', 6.68),\n",
       " ('Geneva', 'Grenoble', 8.4),\n",
       " ('Gyor', 'Lille', 9.65),\n",
       " ('Karlsruhe', 'Metz', 8.88),\n",
       " ('Koszalin', 'Odense', 7.73),\n",
       " ('Le Mans', 'Ruse', 10.59),\n",
       " ('Ljubljana', 'Rijeka', 9.27),\n",
       " ('Manisa', 'Rome', 15.1),\n",
       " ('Mulhouse', 'Zurich', 6.68),\n",
       " ('Nis', 'Skopje', 9.36),\n",
       " ('Novi Sad', 'Szeged', 10.34),\n",
       " ('Prague', 'Sivas', 8.05),\n",
       " ('Tarsus', 'Trieste', 11.21)]"
      ]
     },
     "execution_count": 10,
     "metadata": {},
     "output_type": "execute_result"
    }
   ],
   "source": [
    "%%sql\n",
    "select C1.city, C2.city, C1.temperature\n",
    "from Cities C1, Cities C2\n",
    "where C1.temperature = C2.temperature\n",
    "and C1.city < C2.city"
   ]
  },
  {
   "cell_type": "markdown",
   "metadata": {},
   "source": [
    "### Subqueries in Where clause"
   ]
  },
  {
   "cell_type": "markdown",
   "metadata": {},
   "source": [
    "*Find all countries in the Countries table with no city in the Cities table*"
   ]
  },
  {
   "cell_type": "code",
   "execution_count": 11,
   "metadata": {
    "collapsed": false
   },
   "outputs": [
    {
     "name": "stdout",
     "output_type": "stream",
     "text": [
      "Done.\n"
     ]
    },
    {
     "data": {
      "text/html": [
       "<table>\n",
       "    <tr>\n",
       "        <th>country</th>\n",
       "    </tr>\n",
       "    <tr>\n",
       "        <td>Cyprus</td>\n",
       "    </tr>\n",
       "    <tr>\n",
       "        <td>Iceland</td>\n",
       "    </tr>\n",
       "    <tr>\n",
       "        <td>Kosovo</td>\n",
       "    </tr>\n",
       "    <tr>\n",
       "        <td>Liechtenstein</td>\n",
       "    </tr>\n",
       "    <tr>\n",
       "        <td>Luxembourg</td>\n",
       "    </tr>\n",
       "</table>"
      ],
      "text/plain": [
       "[('Cyprus',), ('Iceland',), ('Kosovo',), ('Liechtenstein',), ('Luxembourg',)]"
      ]
     },
     "execution_count": 11,
     "metadata": {},
     "output_type": "execute_result"
    }
   ],
   "source": [
    "%%sql\n",
    "select country\n",
    "from Countries\n",
    "where not exists (select city from Cities\n",
    "                  where Cities.country = Countries.country)"
   ]
  },
  {
   "cell_type": "markdown",
   "metadata": {},
   "source": [
    "*Find countries in the EU that have a city with temperature > 15*"
   ]
  },
  {
   "cell_type": "code",
   "execution_count": 12,
   "metadata": {
    "collapsed": false
   },
   "outputs": [
    {
     "name": "stdout",
     "output_type": "stream",
     "text": [
      "Done.\n"
     ]
    },
    {
     "data": {
      "text/html": [
       "<table>\n",
       "    <tr>\n",
       "        <th>country</th>\n",
       "    </tr>\n",
       "    <tr>\n",
       "        <td>Greece</td>\n",
       "    </tr>\n",
       "    <tr>\n",
       "        <td>Italy</td>\n",
       "    </tr>\n",
       "    <tr>\n",
       "        <td>Portugal</td>\n",
       "    </tr>\n",
       "    <tr>\n",
       "        <td>Spain</td>\n",
       "    </tr>\n",
       "</table>"
      ],
      "text/plain": [
       "[('Greece',), ('Italy',), ('Portugal',), ('Spain',)]"
      ]
     },
     "execution_count": 12,
     "metadata": {},
     "output_type": "execute_result"
    }
   ],
   "source": [
    "%%sql\n",
    "select country\n",
    "from Countries\n",
    "where EU = 'yes'\n",
    "and exists (select * from Cities\n",
    "            where Cities.country = Countries.country\n",
    "            and temperature > 15)"
   ]
  },
  {
   "cell_type": "markdown",
   "metadata": {},
   "source": [
    "*Find the westernmost city; return the city and longitude*"
   ]
  },
  {
   "cell_type": "code",
   "execution_count": 13,
   "metadata": {
    "collapsed": false
   },
   "outputs": [
    {
     "name": "stdout",
     "output_type": "stream",
     "text": [
      "Done.\n"
     ]
    },
    {
     "data": {
      "text/html": [
       "<table>\n",
       "    <tr>\n",
       "        <th>city</th>\n",
       "        <th>longitude</th>\n",
       "    </tr>\n",
       "    <tr>\n",
       "        <td>Lisbon</td>\n",
       "        <td>-9.14</td>\n",
       "    </tr>\n",
       "</table>"
      ],
      "text/plain": [
       "[('Lisbon', -9.14)]"
      ]
     },
     "execution_count": 13,
     "metadata": {},
     "output_type": "execute_result"
    }
   ],
   "source": [
    "%%sql\n",
    "select city, longitude\n",
    "from Cities C1\n",
    "where not exists (select * from Cities C2\n",
    "                  where C2.longitude < C1.longitude)"
   ]
  },
  {
   "cell_type": "markdown",
   "metadata": {},
   "source": [
    "*Add easternmost to previous query*"
   ]
  },
  {
   "cell_type": "code",
   "execution_count": 14,
   "metadata": {
    "collapsed": false
   },
   "outputs": [
    {
     "name": "stdout",
     "output_type": "stream",
     "text": [
      "Done.\n"
     ]
    },
    {
     "data": {
      "text/html": [
       "<table>\n",
       "    <tr>\n",
       "        <th>city</th>\n",
       "        <th>longitude</th>\n",
       "    </tr>\n",
       "    <tr>\n",
       "        <td>Siirt</td>\n",
       "        <td>41.93</td>\n",
       "    </tr>\n",
       "</table>"
      ],
      "text/plain": [
       "[('Siirt', 41.93)]"
      ]
     },
     "execution_count": 14,
     "metadata": {},
     "output_type": "execute_result"
    }
   ],
   "source": [
    "%%sql\n",
    "select city, longitude\n",
    "from Cities C1\n",
    "where not exists (select * from Cities C2\n",
    "                  where C2.longitude > C1.longitude)"
   ]
  },
  {
   "cell_type": "markdown",
   "metadata": {},
   "source": [
    "*Westernmost city query using = and min*"
   ]
  },
  {
   "cell_type": "code",
   "execution_count": 15,
   "metadata": {
    "collapsed": false
   },
   "outputs": [
    {
     "name": "stdout",
     "output_type": "stream",
     "text": [
      "Done.\n"
     ]
    },
    {
     "data": {
      "text/html": [
       "<table>\n",
       "    <tr>\n",
       "        <th>city</th>\n",
       "        <th>longitude</th>\n",
       "    </tr>\n",
       "    <tr>\n",
       "        <td>Lisbon</td>\n",
       "        <td>-9.14</td>\n",
       "    </tr>\n",
       "</table>"
      ],
      "text/plain": [
       "[('Lisbon', -9.14)]"
      ]
     },
     "execution_count": 15,
     "metadata": {},
     "output_type": "execute_result"
    }
   ],
   "source": [
    "%%sql\n",
    "select city, longitude\n",
    "from Cities\n",
    "where longitude = (select min(longitude) from Cities)"
   ]
  },
  {
   "cell_type": "markdown",
   "metadata": {},
   "source": [
    "*Find all cities whose temperature is more than 50% higher than the average; return the city, country, and temperature, ordered by descending temperature*"
   ]
  },
  {
   "cell_type": "code",
   "execution_count": 16,
   "metadata": {
    "collapsed": false
   },
   "outputs": [
    {
     "name": "stdout",
     "output_type": "stream",
     "text": [
      "Done.\n"
     ]
    },
    {
     "data": {
      "text/html": [
       "<table>\n",
       "    <tr>\n",
       "        <th>city</th>\n",
       "        <th>country</th>\n",
       "        <th>temperature</th>\n",
       "    </tr>\n",
       "    <tr>\n",
       "        <td>Adana</td>\n",
       "        <td>Turkey</td>\n",
       "        <td>18.67</td>\n",
       "    </tr>\n",
       "    <tr>\n",
       "        <td>Palermo</td>\n",
       "        <td>Italy</td>\n",
       "        <td>17.9</td>\n",
       "    </tr>\n",
       "    <tr>\n",
       "        <td>Athens</td>\n",
       "        <td>Greece</td>\n",
       "        <td>17.41</td>\n",
       "    </tr>\n",
       "    <tr>\n",
       "        <td>Algeciras</td>\n",
       "        <td>Spain</td>\n",
       "        <td>17.38</td>\n",
       "    </tr>\n",
       "    <tr>\n",
       "        <td>Cartagena</td>\n",
       "        <td>Spain</td>\n",
       "        <td>17.32</td>\n",
       "    </tr>\n",
       "    <tr>\n",
       "        <td>Kalamata</td>\n",
       "        <td>Greece</td>\n",
       "        <td>17.3</td>\n",
       "    </tr>\n",
       "    <tr>\n",
       "        <td>Marbella</td>\n",
       "        <td>Spain</td>\n",
       "        <td>17.19</td>\n",
       "    </tr>\n",
       "    <tr>\n",
       "        <td>Huelva</td>\n",
       "        <td>Spain</td>\n",
       "        <td>17.09</td>\n",
       "    </tr>\n",
       "    <tr>\n",
       "        <td>Patras</td>\n",
       "        <td>Greece</td>\n",
       "        <td>16.9</td>\n",
       "    </tr>\n",
       "    <tr>\n",
       "        <td>Cosenza</td>\n",
       "        <td>Italy</td>\n",
       "        <td>16.6</td>\n",
       "    </tr>\n",
       "    <tr>\n",
       "        <td>Messina</td>\n",
       "        <td>Italy</td>\n",
       "        <td>16.54</td>\n",
       "    </tr>\n",
       "    <tr>\n",
       "        <td>Granada</td>\n",
       "        <td>Spain</td>\n",
       "        <td>16.33</td>\n",
       "    </tr>\n",
       "    <tr>\n",
       "        <td>Valencia</td>\n",
       "        <td>Spain</td>\n",
       "        <td>16.02</td>\n",
       "    </tr>\n",
       "    <tr>\n",
       "        <td>Trikala</td>\n",
       "        <td>Greece</td>\n",
       "        <td>16.0</td>\n",
       "    </tr>\n",
       "    <tr>\n",
       "        <td>Barcelona</td>\n",
       "        <td>Spain</td>\n",
       "        <td>15.78</td>\n",
       "    </tr>\n",
       "    <tr>\n",
       "        <td>Badajoz</td>\n",
       "        <td>Spain</td>\n",
       "        <td>15.61</td>\n",
       "    </tr>\n",
       "    <tr>\n",
       "        <td>Lisbon</td>\n",
       "        <td>Portugal</td>\n",
       "        <td>15.52</td>\n",
       "    </tr>\n",
       "    <tr>\n",
       "        <td>Elbasan</td>\n",
       "        <td>Albania</td>\n",
       "        <td>15.18</td>\n",
       "    </tr>\n",
       "    <tr>\n",
       "        <td>Bari</td>\n",
       "        <td>Italy</td>\n",
       "        <td>15.15</td>\n",
       "    </tr>\n",
       "    <tr>\n",
       "        <td>Pescara</td>\n",
       "        <td>Italy</td>\n",
       "        <td>15.13</td>\n",
       "    </tr>\n",
       "    <tr>\n",
       "        <td>Manisa</td>\n",
       "        <td>Turkey</td>\n",
       "        <td>15.1</td>\n",
       "    </tr>\n",
       "    <tr>\n",
       "        <td>Rome</td>\n",
       "        <td>Italy</td>\n",
       "        <td>15.1</td>\n",
       "    </tr>\n",
       "    <tr>\n",
       "        <td>Catania</td>\n",
       "        <td>Italy</td>\n",
       "        <td>15.04</td>\n",
       "    </tr>\n",
       "    <tr>\n",
       "        <td>Denizli</td>\n",
       "        <td>Turkey</td>\n",
       "        <td>15.02</td>\n",
       "    </tr>\n",
       "    <tr>\n",
       "        <td>Murcia</td>\n",
       "        <td>Spain</td>\n",
       "        <td>15.0</td>\n",
       "    </tr>\n",
       "    <tr>\n",
       "        <td>Marseille</td>\n",
       "        <td>France</td>\n",
       "        <td>14.98</td>\n",
       "    </tr>\n",
       "</table>"
      ],
      "text/plain": [
       "[('Adana', 'Turkey', 18.67),\n",
       " ('Palermo', 'Italy', 17.9),\n",
       " ('Athens', 'Greece', 17.41),\n",
       " ('Algeciras', 'Spain', 17.38),\n",
       " ('Cartagena', 'Spain', 17.32),\n",
       " ('Kalamata', 'Greece', 17.3),\n",
       " ('Marbella', 'Spain', 17.19),\n",
       " ('Huelva', 'Spain', 17.09),\n",
       " ('Patras', 'Greece', 16.9),\n",
       " ('Cosenza', 'Italy', 16.6),\n",
       " ('Messina', 'Italy', 16.54),\n",
       " ('Granada', 'Spain', 16.33),\n",
       " ('Valencia', 'Spain', 16.02),\n",
       " ('Trikala', 'Greece', 16.0),\n",
       " ('Barcelona', 'Spain', 15.78),\n",
       " ('Badajoz', 'Spain', 15.61),\n",
       " ('Lisbon', 'Portugal', 15.52),\n",
       " ('Elbasan', 'Albania', 15.18),\n",
       " ('Bari', 'Italy', 15.15),\n",
       " ('Pescara', 'Italy', 15.13),\n",
       " ('Manisa', 'Turkey', 15.1),\n",
       " ('Rome', 'Italy', 15.1),\n",
       " ('Catania', 'Italy', 15.04),\n",
       " ('Denizli', 'Turkey', 15.02),\n",
       " ('Murcia', 'Spain', 15.0),\n",
       " ('Marseille', 'France', 14.98)]"
      ]
     },
     "execution_count": 16,
     "metadata": {},
     "output_type": "execute_result"
    }
   ],
   "source": [
    "%%sql\n",
    "select city, country, temperature\n",
    "from Cities\n",
    "where temperature > (select avg(temperature) * 1.5 from Cities)\n",
    "order by temperature desc"
   ]
  },
  {
   "cell_type": "markdown",
   "metadata": {},
   "source": [
    "*Number of cities in the EU*"
   ]
  },
  {
   "cell_type": "code",
   "execution_count": 17,
   "metadata": {
    "collapsed": false
   },
   "outputs": [
    {
     "name": "stdout",
     "output_type": "stream",
     "text": [
      "Done.\n"
     ]
    },
    {
     "data": {
      "text/html": [
       "<table>\n",
       "    <tr>\n",
       "        <th>count(*)</th>\n",
       "    </tr>\n",
       "    <tr>\n",
       "        <td>150</td>\n",
       "    </tr>\n",
       "</table>"
      ],
      "text/plain": [
       "[(150,)]"
      ]
     },
     "execution_count": 17,
     "metadata": {},
     "output_type": "execute_result"
    }
   ],
   "source": [
    "%%sql\n",
    "select count(*)\n",
    "from Cities\n",
    "where country in (select country from Countries where EU = 'yes')"
   ]
  },
  {
   "cell_type": "markdown",
   "metadata": {},
   "source": [
    "*Modify previous query to use \"not in\"*"
   ]
  },
  {
   "cell_type": "code",
   "execution_count": 18,
   "metadata": {
    "collapsed": false
   },
   "outputs": [
    {
     "name": "stdout",
     "output_type": "stream",
     "text": [
      "Done.\n"
     ]
    },
    {
     "data": {
      "text/html": [
       "<table>\n",
       "    <tr>\n",
       "        <th>count(*)</th>\n",
       "    </tr>\n",
       "    <tr>\n",
       "        <td>63</td>\n",
       "    </tr>\n",
       "</table>"
      ],
      "text/plain": [
       "[(63,)]"
      ]
     },
     "execution_count": 18,
     "metadata": {},
     "output_type": "execute_result"
    }
   ],
   "source": [
    "%%sql\n",
    "select count(*)\n",
    "from Cities\n",
    "where country not in (select country from Countries where EU = 'yes')"
   ]
  },
  {
   "cell_type": "markdown",
   "metadata": {},
   "source": [
    "*Same query using join instead of subquery*"
   ]
  },
  {
   "cell_type": "code",
   "execution_count": 19,
   "metadata": {
    "collapsed": false
   },
   "outputs": [
    {
     "name": "stdout",
     "output_type": "stream",
     "text": [
      "Done.\n"
     ]
    },
    {
     "data": {
      "text/html": [
       "<table>\n",
       "    <tr>\n",
       "        <th>count(*)</th>\n",
       "    </tr>\n",
       "    <tr>\n",
       "        <td>150</td>\n",
       "    </tr>\n",
       "</table>"
      ],
      "text/plain": [
       "[(150,)]"
      ]
     },
     "execution_count": 19,
     "metadata": {},
     "output_type": "execute_result"
    }
   ],
   "source": [
    "%%sql\n",
    "select count(*)\n",
    "from Cities, Countries\n",
    "where Cities.country = Countries.country\n",
    "and EU = 'yes'"
   ]
  },
  {
   "cell_type": "markdown",
   "metadata": {},
   "source": [
    "*Number of countries having cities with temperature < 12*"
   ]
  },
  {
   "cell_type": "code",
   "execution_count": 20,
   "metadata": {
    "collapsed": false
   },
   "outputs": [
    {
     "name": "stdout",
     "output_type": "stream",
     "text": [
      "Done.\n"
     ]
    },
    {
     "data": {
      "text/html": [
       "<table>\n",
       "    <tr>\n",
       "        <th>count(*)</th>\n",
       "    </tr>\n",
       "    <tr>\n",
       "        <td>34</td>\n",
       "    </tr>\n",
       "</table>"
      ],
      "text/plain": [
       "[(34,)]"
      ]
     },
     "execution_count": 20,
     "metadata": {},
     "output_type": "execute_result"
    }
   ],
   "source": [
    "%%sql\n",
    "select count(*)\n",
    "from Countries\n",
    "where country in (select country from Cities where temperature < 12)"
   ]
  },
  {
   "cell_type": "markdown",
   "metadata": {},
   "source": [
    "*Same query using join instead of subquery*"
   ]
  },
  {
   "cell_type": "code",
   "execution_count": 21,
   "metadata": {
    "collapsed": false
   },
   "outputs": [
    {
     "name": "stdout",
     "output_type": "stream",
     "text": [
      "Done.\n"
     ]
    },
    {
     "data": {
      "text/html": [
       "<table>\n",
       "    <tr>\n",
       "        <th>country)</th>\n",
       "    </tr>\n",
       "    <tr>\n",
       "        <td>34</td>\n",
       "    </tr>\n",
       "</table>"
      ],
      "text/plain": [
       "[(34,)]"
      ]
     },
     "execution_count": 21,
     "metadata": {},
     "output_type": "execute_result"
    }
   ],
   "source": [
    "%%sql\n",
    "select count(DISTINCT c2.country)\n",
    "from Cities c1, Countries c2\n",
    "where c1.country = c2.country\n",
    "and c1.temperature < 12"
   ]
  },
  {
   "cell_type": "markdown",
   "metadata": {},
   "source": [
    "*Find countries in Countries table with no city in Cities table using join instead of subquery (subquery version repeated first)*"
   ]
  },
  {
   "cell_type": "code",
   "execution_count": 22,
   "metadata": {
    "collapsed": false
   },
   "outputs": [
    {
     "name": "stdout",
     "output_type": "stream",
     "text": [
      "Done.\n"
     ]
    },
    {
     "data": {
      "text/html": [
       "<table>\n",
       "    <tr>\n",
       "        <th>country</th>\n",
       "    </tr>\n",
       "    <tr>\n",
       "        <td>Cyprus</td>\n",
       "    </tr>\n",
       "    <tr>\n",
       "        <td>Iceland</td>\n",
       "    </tr>\n",
       "    <tr>\n",
       "        <td>Kosovo</td>\n",
       "    </tr>\n",
       "    <tr>\n",
       "        <td>Liechtenstein</td>\n",
       "    </tr>\n",
       "    <tr>\n",
       "        <td>Luxembourg</td>\n",
       "    </tr>\n",
       "</table>"
      ],
      "text/plain": [
       "[('Cyprus',), ('Iceland',), ('Kosovo',), ('Liechtenstein',), ('Luxembourg',)]"
      ]
     },
     "execution_count": 22,
     "metadata": {},
     "output_type": "execute_result"
    }
   ],
   "source": [
    "%%sql\n",
    "select country\n",
    "from Countries\n",
    "where not exists (select city from Cities\n",
    "                  where Cities.country = Countries.country)"
   ]
  },
  {
   "cell_type": "code",
   "execution_count": 23,
   "metadata": {
    "collapsed": false
   },
   "outputs": [
    {
     "name": "stdout",
     "output_type": "stream",
     "text": [
      "(sqlite3.OperationalError) near \"FILL\": syntax error [SQL: 'FILL IN']\n"
     ]
    }
   ],
   "source": [
    "%%sql\n",
    "FILL IN"
   ]
  },
  {
   "cell_type": "markdown",
   "metadata": {},
   "source": [
    "### <font color = 'green'>Your Turn</font>"
   ]
  },
  {
   "cell_type": "markdown",
   "metadata": {
    "collapsed": true
   },
   "source": [
    "*Using \"in\" and a subquery in the Where clause, find all cities in a country whose population is < 2; return the city and country*"
   ]
  },
  {
   "cell_type": "code",
   "execution_count": 24,
   "metadata": {
    "collapsed": false
   },
   "outputs": [
    {
     "name": "stdout",
     "output_type": "stream",
     "text": [
      "Done.\n"
     ]
    },
    {
     "data": {
      "text/html": [
       "<table>\n",
       "    <tr>\n",
       "        <th>city</th>\n",
       "        <th>country</th>\n",
       "    </tr>\n",
       "    <tr>\n",
       "        <td>Andorra</td>\n",
       "        <td>Andorra</td>\n",
       "    </tr>\n",
       "    <tr>\n",
       "        <td>Daugavpils</td>\n",
       "        <td>Latvia</td>\n",
       "    </tr>\n",
       "    <tr>\n",
       "        <td>Podgorica</td>\n",
       "        <td>Montenegro</td>\n",
       "    </tr>\n",
       "    <tr>\n",
       "        <td>Riga</td>\n",
       "        <td>Latvia</td>\n",
       "    </tr>\n",
       "    <tr>\n",
       "        <td>Tallinn</td>\n",
       "        <td>Estonia</td>\n",
       "    </tr>\n",
       "    <tr>\n",
       "        <td>Tartu</td>\n",
       "        <td>Estonia</td>\n",
       "    </tr>\n",
       "</table>"
      ],
      "text/plain": [
       "[('Andorra', 'Andorra'),\n",
       " ('Daugavpils', 'Latvia'),\n",
       " ('Podgorica', 'Montenegro'),\n",
       " ('Riga', 'Latvia'),\n",
       " ('Tallinn', 'Estonia'),\n",
       " ('Tartu', 'Estonia')]"
      ]
     },
     "execution_count": 24,
     "metadata": {},
     "output_type": "execute_result"
    }
   ],
   "source": [
    "%%sql\n",
    "select city, country\n",
    "from Cities\n",
    "where exists (select * from Countries\n",
    "            where Cities.country = Countries.country\n",
    "            and population < 2)"
   ]
  },
  {
   "cell_type": "markdown",
   "metadata": {
    "collapsed": true
   },
   "source": [
    "*Write the same query using a join instead of a subquery*"
   ]
  },
  {
   "cell_type": "code",
   "execution_count": 25,
   "metadata": {
    "collapsed": false
   },
   "outputs": [
    {
     "name": "stdout",
     "output_type": "stream",
     "text": [
      "Done.\n"
     ]
    },
    {
     "data": {
      "text/html": [
       "<table>\n",
       "    <tr>\n",
       "        <th>city</th>\n",
       "        <th>country</th>\n",
       "    </tr>\n",
       "    <tr>\n",
       "        <td>Andorra</td>\n",
       "        <td>Andorra</td>\n",
       "    </tr>\n",
       "    <tr>\n",
       "        <td>Daugavpils</td>\n",
       "        <td>Latvia</td>\n",
       "    </tr>\n",
       "    <tr>\n",
       "        <td>Podgorica</td>\n",
       "        <td>Montenegro</td>\n",
       "    </tr>\n",
       "    <tr>\n",
       "        <td>Riga</td>\n",
       "        <td>Latvia</td>\n",
       "    </tr>\n",
       "    <tr>\n",
       "        <td>Tallinn</td>\n",
       "        <td>Estonia</td>\n",
       "    </tr>\n",
       "    <tr>\n",
       "        <td>Tartu</td>\n",
       "        <td>Estonia</td>\n",
       "    </tr>\n",
       "</table>"
      ],
      "text/plain": [
       "[('Andorra', 'Andorra'),\n",
       " ('Daugavpils', 'Latvia'),\n",
       " ('Podgorica', 'Montenegro'),\n",
       " ('Riga', 'Latvia'),\n",
       " ('Tallinn', 'Estonia'),\n",
       " ('Tartu', 'Estonia')]"
      ]
     },
     "execution_count": 25,
     "metadata": {},
     "output_type": "execute_result"
    }
   ],
   "source": [
    "%%sql\n",
    "select C1.city, C2.country\n",
    "from Cities C1, Countries C2\n",
    "where C1.country = C2.country\n",
    "and population < 2"
   ]
  },
  {
   "cell_type": "markdown",
   "metadata": {
    "collapsed": true
   },
   "source": [
    "*Find all countries with no city having a temperature > 6*"
   ]
  },
  {
   "cell_type": "code",
   "execution_count": 26,
   "metadata": {
    "collapsed": false
   },
   "outputs": [
    {
     "name": "stdout",
     "output_type": "stream",
     "text": [
      "Done.\n"
     ]
    },
    {
     "data": {
      "text/html": [
       "<table>\n",
       "    <tr>\n",
       "        <th>country</th>\n",
       "    </tr>\n",
       "    <tr>\n",
       "        <td>Albania</td>\n",
       "    </tr>\n",
       "    <tr>\n",
       "        <td>Andorra</td>\n",
       "    </tr>\n",
       "    <tr>\n",
       "        <td>Austria</td>\n",
       "    </tr>\n",
       "    <tr>\n",
       "        <td>Belarus</td>\n",
       "    </tr>\n",
       "    <tr>\n",
       "        <td>Belgium</td>\n",
       "    </tr>\n",
       "    <tr>\n",
       "        <td>Bosnia and Herzegovina</td>\n",
       "    </tr>\n",
       "    <tr>\n",
       "        <td>Bulgaria</td>\n",
       "    </tr>\n",
       "    <tr>\n",
       "        <td>Croatia</td>\n",
       "    </tr>\n",
       "    <tr>\n",
       "        <td>Czech Republic</td>\n",
       "    </tr>\n",
       "    <tr>\n",
       "        <td>Denmark</td>\n",
       "    </tr>\n",
       "    <tr>\n",
       "        <td>France</td>\n",
       "    </tr>\n",
       "    <tr>\n",
       "        <td>Germany</td>\n",
       "    </tr>\n",
       "    <tr>\n",
       "        <td>Greece</td>\n",
       "    </tr>\n",
       "    <tr>\n",
       "        <td>Hungary</td>\n",
       "    </tr>\n",
       "    <tr>\n",
       "        <td>Ireland</td>\n",
       "    </tr>\n",
       "    <tr>\n",
       "        <td>Italy</td>\n",
       "    </tr>\n",
       "    <tr>\n",
       "        <td>Lithuania</td>\n",
       "    </tr>\n",
       "    <tr>\n",
       "        <td>Macedonia</td>\n",
       "    </tr>\n",
       "    <tr>\n",
       "        <td>Moldova</td>\n",
       "    </tr>\n",
       "    <tr>\n",
       "        <td>Montenegro</td>\n",
       "    </tr>\n",
       "    <tr>\n",
       "        <td>Netherlands</td>\n",
       "    </tr>\n",
       "    <tr>\n",
       "        <td>Poland</td>\n",
       "    </tr>\n",
       "    <tr>\n",
       "        <td>Portugal</td>\n",
       "    </tr>\n",
       "    <tr>\n",
       "        <td>Romania</td>\n",
       "    </tr>\n",
       "    <tr>\n",
       "        <td>Serbia</td>\n",
       "    </tr>\n",
       "    <tr>\n",
       "        <td>Slovakia</td>\n",
       "    </tr>\n",
       "    <tr>\n",
       "        <td>Slovenia</td>\n",
       "    </tr>\n",
       "    <tr>\n",
       "        <td>Spain</td>\n",
       "    </tr>\n",
       "    <tr>\n",
       "        <td>Sweden</td>\n",
       "    </tr>\n",
       "    <tr>\n",
       "        <td>Switzerland</td>\n",
       "    </tr>\n",
       "    <tr>\n",
       "        <td>Turkey</td>\n",
       "    </tr>\n",
       "    <tr>\n",
       "        <td>Ukraine</td>\n",
       "    </tr>\n",
       "    <tr>\n",
       "        <td>United Kingdom</td>\n",
       "    </tr>\n",
       "</table>"
      ],
      "text/plain": [
       "[('Albania',),\n",
       " ('Andorra',),\n",
       " ('Austria',),\n",
       " ('Belarus',),\n",
       " ('Belgium',),\n",
       " ('Bosnia and Herzegovina',),\n",
       " ('Bulgaria',),\n",
       " ('Croatia',),\n",
       " ('Czech Republic',),\n",
       " ('Denmark',),\n",
       " ('France',),\n",
       " ('Germany',),\n",
       " ('Greece',),\n",
       " ('Hungary',),\n",
       " ('Ireland',),\n",
       " ('Italy',),\n",
       " ('Lithuania',),\n",
       " ('Macedonia',),\n",
       " ('Moldova',),\n",
       " ('Montenegro',),\n",
       " ('Netherlands',),\n",
       " ('Poland',),\n",
       " ('Portugal',),\n",
       " ('Romania',),\n",
       " ('Serbia',),\n",
       " ('Slovakia',),\n",
       " ('Slovenia',),\n",
       " ('Spain',),\n",
       " ('Sweden',),\n",
       " ('Switzerland',),\n",
       " ('Turkey',),\n",
       " ('Ukraine',),\n",
       " ('United Kingdom',)]"
      ]
     },
     "execution_count": 26,
     "metadata": {},
     "output_type": "execute_result"
    }
   ],
   "source": [
    "%%sql\n",
    "select country\n",
    "from Countries\n",
    "where exists (select * from Cities\n",
    "            where Cities.country = Countries.country\n",
    "            and temperature > 6)"
   ]
  },
  {
   "cell_type": "markdown",
   "metadata": {},
   "source": [
    "### Aggregation with Having clause"
   ]
  },
  {
   "cell_type": "markdown",
   "metadata": {},
   "source": [
    "*Find all countries with average city temperature > 10; return country and average temperature*"
   ]
  },
  {
   "cell_type": "code",
   "execution_count": 27,
   "metadata": {
    "collapsed": false
   },
   "outputs": [
    {
     "name": "stdout",
     "output_type": "stream",
     "text": [
      "Done.\n"
     ]
    },
    {
     "data": {
      "text/html": [
       "<table>\n",
       "    <tr>\n",
       "        <th>country</th>\n",
       "        <th>avg(temperature)</th>\n",
       "    </tr>\n",
       "    <tr>\n",
       "        <td>Albania</td>\n",
       "        <td>15.18</td>\n",
       "    </tr>\n",
       "    <tr>\n",
       "        <td>Bulgaria</td>\n",
       "        <td>10.44</td>\n",
       "    </tr>\n",
       "    <tr>\n",
       "        <td>Croatia</td>\n",
       "        <td>10.865</td>\n",
       "    </tr>\n",
       "    <tr>\n",
       "        <td>France</td>\n",
       "        <td>10.151111111111112</td>\n",
       "    </tr>\n",
       "    <tr>\n",
       "        <td>Greece</td>\n",
       "        <td>16.9025</td>\n",
       "    </tr>\n",
       "    <tr>\n",
       "        <td>Italy</td>\n",
       "        <td>13.474666666666668</td>\n",
       "    </tr>\n",
       "    <tr>\n",
       "        <td>Portugal</td>\n",
       "        <td>14.469999999999999</td>\n",
       "    </tr>\n",
       "    <tr>\n",
       "        <td>Spain</td>\n",
       "        <td>14.238333333333332</td>\n",
       "    </tr>\n",
       "    <tr>\n",
       "        <td>Turkey</td>\n",
       "        <td>11.726666666666665</td>\n",
       "    </tr>\n",
       "</table>"
      ],
      "text/plain": [
       "[('Albania', 15.18),\n",
       " ('Bulgaria', 10.44),\n",
       " ('Croatia', 10.865),\n",
       " ('France', 10.151111111111112),\n",
       " ('Greece', 16.9025),\n",
       " ('Italy', 13.474666666666668),\n",
       " ('Portugal', 14.469999999999999),\n",
       " ('Spain', 14.238333333333332),\n",
       " ('Turkey', 11.726666666666665)]"
      ]
     },
     "execution_count": 27,
     "metadata": {},
     "output_type": "execute_result"
    }
   ],
   "source": [
    "%%sql\n",
    "select country, avg(temperature)\n",
    "from Cities\n",
    "group by country\n",
    "having avg(temperature) > 10"
   ]
  },
  {
   "cell_type": "markdown",
   "metadata": {},
   "source": [
    "*Find all countries with more than 10 cities*"
   ]
  },
  {
   "cell_type": "code",
   "execution_count": 28,
   "metadata": {
    "collapsed": false
   },
   "outputs": [
    {
     "name": "stdout",
     "output_type": "stream",
     "text": [
      "Done.\n"
     ]
    },
    {
     "data": {
      "text/html": [
       "<table>\n",
       "    <tr>\n",
       "        <th>country</th>\n",
       "    </tr>\n",
       "    <tr>\n",
       "        <td>France</td>\n",
       "    </tr>\n",
       "    <tr>\n",
       "        <td>Germany</td>\n",
       "    </tr>\n",
       "    <tr>\n",
       "        <td>Italy</td>\n",
       "    </tr>\n",
       "    <tr>\n",
       "        <td>Spain</td>\n",
       "    </tr>\n",
       "    <tr>\n",
       "        <td>Turkey</td>\n",
       "    </tr>\n",
       "    <tr>\n",
       "        <td>Ukraine</td>\n",
       "    </tr>\n",
       "    <tr>\n",
       "        <td>United Kingdom</td>\n",
       "    </tr>\n",
       "</table>"
      ],
      "text/plain": [
       "[('France',),\n",
       " ('Germany',),\n",
       " ('Italy',),\n",
       " ('Spain',),\n",
       " ('Turkey',),\n",
       " ('Ukraine',),\n",
       " ('United Kingdom',)]"
      ]
     },
     "execution_count": 28,
     "metadata": {},
     "output_type": "execute_result"
    }
   ],
   "source": [
    "%%sql\n",
    "select country\n",
    "from Cities\n",
    "group by country\n",
    "having count(*) > 10"
   ]
  },
  {
   "cell_type": "markdown",
   "metadata": {},
   "source": [
    "*Same query without Having clause*"
   ]
  },
  {
   "cell_type": "code",
   "execution_count": 29,
   "metadata": {
    "collapsed": false
   },
   "outputs": [
    {
     "name": "stdout",
     "output_type": "stream",
     "text": [
      "Done.\n"
     ]
    },
    {
     "data": {
      "text/html": [
       "<table>\n",
       "    <tr>\n",
       "        <th>country</th>\n",
       "    </tr>\n",
       "    <tr>\n",
       "        <td>United Kingdom</td>\n",
       "    </tr>\n",
       "    <tr>\n",
       "        <td>Turkey</td>\n",
       "    </tr>\n",
       "    <tr>\n",
       "        <td>Spain</td>\n",
       "    </tr>\n",
       "    <tr>\n",
       "        <td>France</td>\n",
       "    </tr>\n",
       "    <tr>\n",
       "        <td>Italy</td>\n",
       "    </tr>\n",
       "    <tr>\n",
       "        <td>Germany</td>\n",
       "    </tr>\n",
       "    <tr>\n",
       "        <td>Ukraine</td>\n",
       "    </tr>\n",
       "</table>"
      ],
      "text/plain": [
       "[('United Kingdom',),\n",
       " ('Turkey',),\n",
       " ('Spain',),\n",
       " ('France',),\n",
       " ('Italy',),\n",
       " ('Germany',),\n",
       " ('Ukraine',)]"
      ]
     },
     "execution_count": 29,
     "metadata": {},
     "output_type": "execute_result"
    }
   ],
   "source": [
    "%%sql\n",
    "select distinct country\n",
    "from Cities C1\n",
    "where 10 < (select count(*) from Cities C2\n",
    "            where C1.country=C2.country)"
   ]
  },
  {
   "cell_type": "markdown",
   "metadata": {},
   "source": [
    "*Which combinations of EU versus non-EU and coastline versus no-coastline have a minimum population greater than 0.5?*"
   ]
  },
  {
   "cell_type": "code",
   "execution_count": 30,
   "metadata": {
    "collapsed": false
   },
   "outputs": [
    {
     "name": "stdout",
     "output_type": "stream",
     "text": [
      "Done.\n"
     ]
    },
    {
     "data": {
      "text/html": [
       "<table>\n",
       "    <tr>\n",
       "        <th>EU</th>\n",
       "        <th>coastline</th>\n",
       "        <th>min(population)</th>\n",
       "    </tr>\n",
       "    <tr>\n",
       "        <td>yes</td>\n",
       "        <td>no</td>\n",
       "        <td>0.58</td>\n",
       "    </tr>\n",
       "    <tr>\n",
       "        <td>yes</td>\n",
       "        <td>yes</td>\n",
       "        <td>1.18</td>\n",
       "    </tr>\n",
       "</table>"
      ],
      "text/plain": [
       "[('yes', 'no', 0.58), ('yes', 'yes', 1.18)]"
      ]
     },
     "execution_count": 30,
     "metadata": {},
     "output_type": "execute_result"
    }
   ],
   "source": [
    "%%sql\n",
    "select EU, coastline, min(population)\n",
    "from Countries\n",
    "group by EU, coastline\n",
    "having min(population) > 0.5"
   ]
  },
  {
   "cell_type": "markdown",
   "metadata": {},
   "source": [
    "*Find all countries with average city temperature more than 50% higher than the overall average; return country and average temperature*"
   ]
  },
  {
   "cell_type": "code",
   "execution_count": 31,
   "metadata": {
    "collapsed": false
   },
   "outputs": [
    {
     "name": "stdout",
     "output_type": "stream",
     "text": [
      "Done.\n"
     ]
    },
    {
     "data": {
      "text/html": [
       "<table>\n",
       "    <tr>\n",
       "        <th>country</th>\n",
       "        <th>avg(temperature)</th>\n",
       "    </tr>\n",
       "    <tr>\n",
       "        <td>Albania</td>\n",
       "        <td>15.18</td>\n",
       "    </tr>\n",
       "    <tr>\n",
       "        <td>Greece</td>\n",
       "        <td>16.9025</td>\n",
       "    </tr>\n",
       "    <tr>\n",
       "        <td>Portugal</td>\n",
       "        <td>14.469999999999999</td>\n",
       "    </tr>\n",
       "</table>"
      ],
      "text/plain": [
       "[('Albania', 15.18), ('Greece', 16.9025), ('Portugal', 14.469999999999999)]"
      ]
     },
     "execution_count": 31,
     "metadata": {},
     "output_type": "execute_result"
    }
   ],
   "source": [
    "%%sql\n",
    "select country, avg(temperature)\n",
    "from Cities\n",
    "group by country\n",
    "having avg(temperature) > (select 1.5 * avg(temperature) from Cities)"
   ]
  },
  {
   "cell_type": "markdown",
   "metadata": {},
   "source": [
    "### <font color = 'green'>Your Turn</font>"
   ]
  },
  {
   "cell_type": "markdown",
   "metadata": {
    "collapsed": true
   },
   "source": [
    "*Find all countries whose average city longitude is lower than the overall average longitude, and whose average city latitude is higher than the overall average latitude. Return the countries. Note: Yes, you can use \"and\" in Having clauses!*"
   ]
  },
  {
   "cell_type": "code",
   "execution_count": 32,
   "metadata": {
    "collapsed": false
   },
   "outputs": [
    {
     "name": "stdout",
     "output_type": "stream",
     "text": [
      "Done.\n"
     ]
    },
    {
     "data": {
      "text/html": [
       "<table>\n",
       "    <tr>\n",
       "        <th>country</th>\n",
       "    </tr>\n",
       "    <tr>\n",
       "        <td>Belarus</td>\n",
       "    </tr>\n",
       "    <tr>\n",
       "        <td>Czech Republic</td>\n",
       "    </tr>\n",
       "    <tr>\n",
       "        <td>Estonia</td>\n",
       "    </tr>\n",
       "    <tr>\n",
       "        <td>Finland</td>\n",
       "    </tr>\n",
       "    <tr>\n",
       "        <td>Latvia</td>\n",
       "    </tr>\n",
       "    <tr>\n",
       "        <td>Lithuania</td>\n",
       "    </tr>\n",
       "    <tr>\n",
       "        <td>Poland</td>\n",
       "    </tr>\n",
       "    <tr>\n",
       "        <td>Slovakia</td>\n",
       "    </tr>\n",
       "    <tr>\n",
       "        <td>Sweden</td>\n",
       "    </tr>\n",
       "    <tr>\n",
       "        <td>Ukraine</td>\n",
       "    </tr>\n",
       "</table>"
      ],
      "text/plain": [
       "[('Belarus',),\n",
       " ('Czech Republic',),\n",
       " ('Estonia',),\n",
       " ('Finland',),\n",
       " ('Latvia',),\n",
       " ('Lithuania',),\n",
       " ('Poland',),\n",
       " ('Slovakia',),\n",
       " ('Sweden',),\n",
       " ('Ukraine',)]"
      ]
     },
     "execution_count": 32,
     "metadata": {},
     "output_type": "execute_result"
    }
   ],
   "source": [
    "%%sql\n",
    "select country\n",
    "from Cities\n",
    "group by country\n",
    "having avg(latitude) > (select avg(latitude) from Cities) and avg(longitude) > (select avg(longitude) from Cities)"
   ]
  },
  {
   "cell_type": "markdown",
   "metadata": {},
   "source": [
    "### Subqueries in From and Select clauses"
   ]
  },
  {
   "cell_type": "markdown",
   "metadata": {},
   "source": [
    "*Find all countries with both cold and warm cities -- at least one city with temperature < 9 and one city with temperature > 14*"
   ]
  },
  {
   "cell_type": "code",
   "execution_count": 33,
   "metadata": {
    "collapsed": false
   },
   "outputs": [
    {
     "name": "stdout",
     "output_type": "stream",
     "text": [
      "Done.\n"
     ]
    },
    {
     "data": {
      "text/html": [
       "<table>\n",
       "    <tr>\n",
       "        <th>country</th>\n",
       "    </tr>\n",
       "    <tr>\n",
       "        <td>France</td>\n",
       "    </tr>\n",
       "    <tr>\n",
       "        <td>Turkey</td>\n",
       "    </tr>\n",
       "    <tr>\n",
       "        <td>Italy</td>\n",
       "    </tr>\n",
       "</table>"
      ],
      "text/plain": [
       "[('France',), ('Turkey',), ('Italy',)]"
      ]
     },
     "execution_count": 33,
     "metadata": {},
     "output_type": "execute_result"
    }
   ],
   "source": [
    "%%sql\n",
    "select DISTINCT C1.country\n",
    "from Cities C1, Cities C2\n",
    "where C1.country = C2.country\n",
    "and C1.temperature < 9 and C2.temperature > 14"
   ]
  },
  {
   "cell_type": "markdown",
   "metadata": {},
   "source": [
    "*Modify query to also return count of cold and warm cities*"
   ]
  },
  {
   "cell_type": "code",
   "execution_count": 34,
   "metadata": {
    "collapsed": false
   },
   "outputs": [],
   "source": [
    "# (select count(*) from Cities where country = C1.country and temperature < 9) as numcold,\n",
    "# (select count(*) from Cities where country = C1.country and temperature > 14) as numwarm"
   ]
  },
  {
   "cell_type": "markdown",
   "metadata": {},
   "source": [
    "*Same query using subquery in From clause instead of Select clause*"
   ]
  },
  {
   "cell_type": "code",
   "execution_count": 35,
   "metadata": {
    "collapsed": false
   },
   "outputs": [
    {
     "name": "stdout",
     "output_type": "stream",
     "text": [
      "Done.\n"
     ]
    },
    {
     "data": {
      "text/html": [
       "<table>\n",
       "    <tr>\n",
       "        <th>country</th>\n",
       "        <th>numcold</th>\n",
       "        <th>numwarm</th>\n",
       "    </tr>\n",
       "    <tr>\n",
       "        <td>France</td>\n",
       "        <td>5</td>\n",
       "        <td>1</td>\n",
       "    </tr>\n",
       "    <tr>\n",
       "        <td>Italy</td>\n",
       "        <td>1</td>\n",
       "        <td>7</td>\n",
       "    </tr>\n",
       "    <tr>\n",
       "        <td>Turkey</td>\n",
       "        <td>4</td>\n",
       "        <td>5</td>\n",
       "    </tr>\n",
       "</table>"
      ],
      "text/plain": [
       "[('France', 5, 1), ('Italy', 1, 7), ('Turkey', 4, 5)]"
      ]
     },
     "execution_count": 35,
     "metadata": {},
     "output_type": "execute_result"
    }
   ],
   "source": [
    "%%sql\n",
    "select Cold.country, numcold, numwarm\n",
    "from (select country, count(*) as numcold from Cities\n",
    "      where temperature < 9 group by country) Cold,\n",
    "     (select country, count(*) as numwarm from Cities\n",
    "      where temperature > 14 group by country) Warm\n",
    "where Cold.country = Warm.country"
   ]
  },
  {
   "cell_type": "markdown",
   "metadata": {},
   "source": [
    "### Data modification"
   ]
  },
  {
   "cell_type": "markdown",
   "metadata": {},
   "source": [
    "*Increase all city temperatures by 10%*"
   ]
  },
  {
   "cell_type": "code",
   "execution_count": 36,
   "metadata": {
    "collapsed": false
   },
   "outputs": [
    {
     "name": "stdout",
     "output_type": "stream",
     "text": [
      "213 rows affected.\n"
     ]
    },
    {
     "data": {
      "text/plain": [
       "[]"
      ]
     },
     "execution_count": 36,
     "metadata": {},
     "output_type": "execute_result"
    }
   ],
   "source": [
    "%%sql\n",
    "update Cities\n",
    "set temperature = 1.1 * temperature"
   ]
  },
  {
   "cell_type": "code",
   "execution_count": 37,
   "metadata": {
    "collapsed": false
   },
   "outputs": [
    {
     "name": "stdout",
     "output_type": "stream",
     "text": [
      "Done.\n"
     ]
    },
    {
     "data": {
      "text/html": [
       "<table>\n",
       "    <tr>\n",
       "        <th>avg(temperature)</th>\n",
       "    </tr>\n",
       "    <tr>\n",
       "        <td>10.447624413145537</td>\n",
       "    </tr>\n",
       "</table>"
      ],
      "text/plain": [
       "[(10.447624413145537,)]"
      ]
     },
     "execution_count": 37,
     "metadata": {},
     "output_type": "execute_result"
    }
   ],
   "source": [
    "%%sql\n",
    "select avg(temperature) from Cities"
   ]
  },
  {
   "cell_type": "markdown",
   "metadata": {},
   "source": [
    "*Increase temperatures another 10% for cities in countries with coastline*"
   ]
  },
  {
   "cell_type": "code",
   "execution_count": 38,
   "metadata": {
    "collapsed": false
   },
   "outputs": [
    {
     "name": "stdout",
     "output_type": "stream",
     "text": [
      "182 rows affected.\n"
     ]
    },
    {
     "data": {
      "text/plain": [
       "[]"
      ]
     },
     "execution_count": 38,
     "metadata": {},
     "output_type": "execute_result"
    }
   ],
   "source": [
    "%%sql\n",
    "update Cities\n",
    "set temperature = 1.1 * temperature\n",
    "where country in (select country from Countries\n",
    "                  where coastline = 'yes')"
   ]
  },
  {
   "cell_type": "markdown",
   "metadata": {},
   "source": [
    "*Delete all cities in Turkey*"
   ]
  },
  {
   "cell_type": "code",
   "execution_count": 39,
   "metadata": {
    "collapsed": false
   },
   "outputs": [
    {
     "name": "stdout",
     "output_type": "stream",
     "text": [
      "24 rows affected.\n"
     ]
    },
    {
     "data": {
      "text/plain": [
       "[]"
      ]
     },
     "execution_count": 39,
     "metadata": {},
     "output_type": "execute_result"
    }
   ],
   "source": [
    "%%sql\n",
    "delete from Cities\n",
    "where country = 'Turkey'"
   ]
  },
  {
   "cell_type": "markdown",
   "metadata": {},
   "source": [
    "*Create a new table non-EU containing list of cities (with country) not in the EU*"
   ]
  },
  {
   "cell_type": "code",
   "execution_count": 40,
   "metadata": {
    "collapsed": false
   },
   "outputs": [
    {
     "name": "stdout",
     "output_type": "stream",
     "text": [
      "Done.\n",
      "Done.\n",
      "39 rows affected.\n",
      "Done.\n"
     ]
    },
    {
     "data": {
      "text/html": [
       "<table>\n",
       "    <tr>\n",
       "        <th>city</th>\n",
       "        <th>country</th>\n",
       "    </tr>\n",
       "    <tr>\n",
       "        <td>Andorra</td>\n",
       "        <td>Andorra</td>\n",
       "    </tr>\n",
       "    <tr>\n",
       "        <td>Balti</td>\n",
       "        <td>Moldova</td>\n",
       "    </tr>\n",
       "    <tr>\n",
       "        <td>Basel</td>\n",
       "        <td>Switzerland</td>\n",
       "    </tr>\n",
       "    <tr>\n",
       "        <td>Belgrade</td>\n",
       "        <td>Serbia</td>\n",
       "    </tr>\n",
       "    <tr>\n",
       "        <td>Bergen</td>\n",
       "        <td>Norway</td>\n",
       "    </tr>\n",
       "    <tr>\n",
       "        <td>Bila Tserkva</td>\n",
       "        <td>Ukraine</td>\n",
       "    </tr>\n",
       "    <tr>\n",
       "        <td>Bodo</td>\n",
       "        <td>Norway</td>\n",
       "    </tr>\n",
       "    <tr>\n",
       "        <td>Brest</td>\n",
       "        <td>Belarus</td>\n",
       "    </tr>\n",
       "    <tr>\n",
       "        <td>Cherkasy</td>\n",
       "        <td>Ukraine</td>\n",
       "    </tr>\n",
       "    <tr>\n",
       "        <td>Chernihiv</td>\n",
       "        <td>Ukraine</td>\n",
       "    </tr>\n",
       "    <tr>\n",
       "        <td>Chernivtsi</td>\n",
       "        <td>Ukraine</td>\n",
       "    </tr>\n",
       "    <tr>\n",
       "        <td>Chisinau</td>\n",
       "        <td>Moldova</td>\n",
       "    </tr>\n",
       "    <tr>\n",
       "        <td>Elbasan</td>\n",
       "        <td>Albania</td>\n",
       "    </tr>\n",
       "    <tr>\n",
       "        <td>Geneva</td>\n",
       "        <td>Switzerland</td>\n",
       "    </tr>\n",
       "    <tr>\n",
       "        <td>Horlivka</td>\n",
       "        <td>Ukraine</td>\n",
       "    </tr>\n",
       "    <tr>\n",
       "        <td>Hrodna</td>\n",
       "        <td>Belarus</td>\n",
       "    </tr>\n",
       "    <tr>\n",
       "        <td>Kherson</td>\n",
       "        <td>Ukraine</td>\n",
       "    </tr>\n",
       "    <tr>\n",
       "        <td>Kiev</td>\n",
       "        <td>Ukraine</td>\n",
       "    </tr>\n",
       "    <tr>\n",
       "        <td>Kremenchuk</td>\n",
       "        <td>Ukraine</td>\n",
       "    </tr>\n",
       "    <tr>\n",
       "        <td>Kryvyy Rih</td>\n",
       "        <td>Ukraine</td>\n",
       "    </tr>\n",
       "    <tr>\n",
       "        <td>Lvov</td>\n",
       "        <td>Ukraine</td>\n",
       "    </tr>\n",
       "    <tr>\n",
       "        <td>Makiyivka</td>\n",
       "        <td>Ukraine</td>\n",
       "    </tr>\n",
       "    <tr>\n",
       "        <td>Mazyr</td>\n",
       "        <td>Belarus</td>\n",
       "    </tr>\n",
       "    <tr>\n",
       "        <td>Minsk</td>\n",
       "        <td>Belarus</td>\n",
       "    </tr>\n",
       "    <tr>\n",
       "        <td>Nis</td>\n",
       "        <td>Serbia</td>\n",
       "    </tr>\n",
       "    <tr>\n",
       "        <td>Novi Sad</td>\n",
       "        <td>Serbia</td>\n",
       "    </tr>\n",
       "    <tr>\n",
       "        <td>Orsha</td>\n",
       "        <td>Belarus</td>\n",
       "    </tr>\n",
       "    <tr>\n",
       "        <td>Oslo</td>\n",
       "        <td>Norway</td>\n",
       "    </tr>\n",
       "    <tr>\n",
       "        <td>Pinsk</td>\n",
       "        <td>Belarus</td>\n",
       "    </tr>\n",
       "    <tr>\n",
       "        <td>Podgorica</td>\n",
       "        <td>Montenegro</td>\n",
       "    </tr>\n",
       "    <tr>\n",
       "        <td>Rivne</td>\n",
       "        <td>Ukraine</td>\n",
       "    </tr>\n",
       "    <tr>\n",
       "        <td>Sarajevo</td>\n",
       "        <td>Bosnia and Herzegovina</td>\n",
       "    </tr>\n",
       "    <tr>\n",
       "        <td>Skopje</td>\n",
       "        <td>Macedonia</td>\n",
       "    </tr>\n",
       "    <tr>\n",
       "        <td>Stavanger</td>\n",
       "        <td>Norway</td>\n",
       "    </tr>\n",
       "    <tr>\n",
       "        <td>Sumy</td>\n",
       "        <td>Ukraine</td>\n",
       "    </tr>\n",
       "    <tr>\n",
       "        <td>Trondheim</td>\n",
       "        <td>Norway</td>\n",
       "    </tr>\n",
       "    <tr>\n",
       "        <td>Yevpatoriya</td>\n",
       "        <td>Ukraine</td>\n",
       "    </tr>\n",
       "    <tr>\n",
       "        <td>Zhytomyr</td>\n",
       "        <td>Ukraine</td>\n",
       "    </tr>\n",
       "    <tr>\n",
       "        <td>Zurich</td>\n",
       "        <td>Switzerland</td>\n",
       "    </tr>\n",
       "</table>"
      ],
      "text/plain": [
       "[('Andorra', 'Andorra'),\n",
       " ('Balti', 'Moldova'),\n",
       " ('Basel', 'Switzerland'),\n",
       " ('Belgrade', 'Serbia'),\n",
       " ('Bergen', 'Norway'),\n",
       " ('Bila Tserkva', 'Ukraine'),\n",
       " ('Bodo', 'Norway'),\n",
       " ('Brest', 'Belarus'),\n",
       " ('Cherkasy', 'Ukraine'),\n",
       " ('Chernihiv', 'Ukraine'),\n",
       " ('Chernivtsi', 'Ukraine'),\n",
       " ('Chisinau', 'Moldova'),\n",
       " ('Elbasan', 'Albania'),\n",
       " ('Geneva', 'Switzerland'),\n",
       " ('Horlivka', 'Ukraine'),\n",
       " ('Hrodna', 'Belarus'),\n",
       " ('Kherson', 'Ukraine'),\n",
       " ('Kiev', 'Ukraine'),\n",
       " ('Kremenchuk', 'Ukraine'),\n",
       " ('Kryvyy Rih', 'Ukraine'),\n",
       " ('Lvov', 'Ukraine'),\n",
       " ('Makiyivka', 'Ukraine'),\n",
       " ('Mazyr', 'Belarus'),\n",
       " ('Minsk', 'Belarus'),\n",
       " ('Nis', 'Serbia'),\n",
       " ('Novi Sad', 'Serbia'),\n",
       " ('Orsha', 'Belarus'),\n",
       " ('Oslo', 'Norway'),\n",
       " ('Pinsk', 'Belarus'),\n",
       " ('Podgorica', 'Montenegro'),\n",
       " ('Rivne', 'Ukraine'),\n",
       " ('Sarajevo', 'Bosnia and Herzegovina'),\n",
       " ('Skopje', 'Macedonia'),\n",
       " ('Stavanger', 'Norway'),\n",
       " ('Sumy', 'Ukraine'),\n",
       " ('Trondheim', 'Norway'),\n",
       " ('Yevpatoriya', 'Ukraine'),\n",
       " ('Zhytomyr', 'Ukraine'),\n",
       " ('Zurich', 'Switzerland')]"
      ]
     },
     "execution_count": 40,
     "metadata": {},
     "output_type": "execute_result"
    }
   ],
   "source": [
    "%%sql\n",
    "drop table if exists NonEU;\n",
    "create table NonEU(city, country);\n",
    "insert into NonEU\n",
    "  select city, country from cities\n",
    "  where country in (select country from Countries\n",
    "                    where EU = 'no');\n",
    "select * from NonEU"
   ]
  },
  {
   "cell_type": "markdown",
   "metadata": {},
   "source": [
    "*Add your city*"
   ]
  },
  {
   "cell_type": "code",
   "execution_count": 41,
   "metadata": {
    "collapsed": false
   },
   "outputs": [
    {
     "name": "stdout",
     "output_type": "stream",
     "text": [
      "1 rows affected.\n",
      "Done.\n"
     ]
    },
    {
     "data": {
      "text/html": [
       "<table>\n",
       "    <tr>\n",
       "        <th>city</th>\n",
       "        <th>country</th>\n",
       "    </tr>\n",
       "    <tr>\n",
       "        <td>Andorra</td>\n",
       "        <td>Andorra</td>\n",
       "    </tr>\n",
       "    <tr>\n",
       "        <td>Balti</td>\n",
       "        <td>Moldova</td>\n",
       "    </tr>\n",
       "    <tr>\n",
       "        <td>Basel</td>\n",
       "        <td>Switzerland</td>\n",
       "    </tr>\n",
       "    <tr>\n",
       "        <td>Belgrade</td>\n",
       "        <td>Serbia</td>\n",
       "    </tr>\n",
       "    <tr>\n",
       "        <td>Bergen</td>\n",
       "        <td>Norway</td>\n",
       "    </tr>\n",
       "    <tr>\n",
       "        <td>Bila Tserkva</td>\n",
       "        <td>Ukraine</td>\n",
       "    </tr>\n",
       "    <tr>\n",
       "        <td>Bodo</td>\n",
       "        <td>Norway</td>\n",
       "    </tr>\n",
       "    <tr>\n",
       "        <td>Brest</td>\n",
       "        <td>Belarus</td>\n",
       "    </tr>\n",
       "    <tr>\n",
       "        <td>Cherkasy</td>\n",
       "        <td>Ukraine</td>\n",
       "    </tr>\n",
       "    <tr>\n",
       "        <td>Chernihiv</td>\n",
       "        <td>Ukraine</td>\n",
       "    </tr>\n",
       "    <tr>\n",
       "        <td>Chernivtsi</td>\n",
       "        <td>Ukraine</td>\n",
       "    </tr>\n",
       "    <tr>\n",
       "        <td>Chisinau</td>\n",
       "        <td>Moldova</td>\n",
       "    </tr>\n",
       "    <tr>\n",
       "        <td>Elbasan</td>\n",
       "        <td>Albania</td>\n",
       "    </tr>\n",
       "    <tr>\n",
       "        <td>Geneva</td>\n",
       "        <td>Switzerland</td>\n",
       "    </tr>\n",
       "    <tr>\n",
       "        <td>Horlivka</td>\n",
       "        <td>Ukraine</td>\n",
       "    </tr>\n",
       "    <tr>\n",
       "        <td>Hrodna</td>\n",
       "        <td>Belarus</td>\n",
       "    </tr>\n",
       "    <tr>\n",
       "        <td>Kherson</td>\n",
       "        <td>Ukraine</td>\n",
       "    </tr>\n",
       "    <tr>\n",
       "        <td>Kiev</td>\n",
       "        <td>Ukraine</td>\n",
       "    </tr>\n",
       "    <tr>\n",
       "        <td>Kremenchuk</td>\n",
       "        <td>Ukraine</td>\n",
       "    </tr>\n",
       "    <tr>\n",
       "        <td>Kryvyy Rih</td>\n",
       "        <td>Ukraine</td>\n",
       "    </tr>\n",
       "    <tr>\n",
       "        <td>Lvov</td>\n",
       "        <td>Ukraine</td>\n",
       "    </tr>\n",
       "    <tr>\n",
       "        <td>Makiyivka</td>\n",
       "        <td>Ukraine</td>\n",
       "    </tr>\n",
       "    <tr>\n",
       "        <td>Mazyr</td>\n",
       "        <td>Belarus</td>\n",
       "    </tr>\n",
       "    <tr>\n",
       "        <td>Minsk</td>\n",
       "        <td>Belarus</td>\n",
       "    </tr>\n",
       "    <tr>\n",
       "        <td>Nis</td>\n",
       "        <td>Serbia</td>\n",
       "    </tr>\n",
       "    <tr>\n",
       "        <td>Novi Sad</td>\n",
       "        <td>Serbia</td>\n",
       "    </tr>\n",
       "    <tr>\n",
       "        <td>Orsha</td>\n",
       "        <td>Belarus</td>\n",
       "    </tr>\n",
       "    <tr>\n",
       "        <td>Oslo</td>\n",
       "        <td>Norway</td>\n",
       "    </tr>\n",
       "    <tr>\n",
       "        <td>Pinsk</td>\n",
       "        <td>Belarus</td>\n",
       "    </tr>\n",
       "    <tr>\n",
       "        <td>Podgorica</td>\n",
       "        <td>Montenegro</td>\n",
       "    </tr>\n",
       "    <tr>\n",
       "        <td>Rivne</td>\n",
       "        <td>Ukraine</td>\n",
       "    </tr>\n",
       "    <tr>\n",
       "        <td>Sarajevo</td>\n",
       "        <td>Bosnia and Herzegovina</td>\n",
       "    </tr>\n",
       "    <tr>\n",
       "        <td>Skopje</td>\n",
       "        <td>Macedonia</td>\n",
       "    </tr>\n",
       "    <tr>\n",
       "        <td>Stavanger</td>\n",
       "        <td>Norway</td>\n",
       "    </tr>\n",
       "    <tr>\n",
       "        <td>Sumy</td>\n",
       "        <td>Ukraine</td>\n",
       "    </tr>\n",
       "    <tr>\n",
       "        <td>Trondheim</td>\n",
       "        <td>Norway</td>\n",
       "    </tr>\n",
       "    <tr>\n",
       "        <td>Yevpatoriya</td>\n",
       "        <td>Ukraine</td>\n",
       "    </tr>\n",
       "    <tr>\n",
       "        <td>Zhytomyr</td>\n",
       "        <td>Ukraine</td>\n",
       "    </tr>\n",
       "    <tr>\n",
       "        <td>Zurich</td>\n",
       "        <td>Switzerland</td>\n",
       "    </tr>\n",
       "    <tr>\n",
       "        <td>my-city</td>\n",
       "        <td>my-country</td>\n",
       "    </tr>\n",
       "</table>"
      ],
      "text/plain": [
       "[('Andorra', 'Andorra'),\n",
       " ('Balti', 'Moldova'),\n",
       " ('Basel', 'Switzerland'),\n",
       " ('Belgrade', 'Serbia'),\n",
       " ('Bergen', 'Norway'),\n",
       " ('Bila Tserkva', 'Ukraine'),\n",
       " ('Bodo', 'Norway'),\n",
       " ('Brest', 'Belarus'),\n",
       " ('Cherkasy', 'Ukraine'),\n",
       " ('Chernihiv', 'Ukraine'),\n",
       " ('Chernivtsi', 'Ukraine'),\n",
       " ('Chisinau', 'Moldova'),\n",
       " ('Elbasan', 'Albania'),\n",
       " ('Geneva', 'Switzerland'),\n",
       " ('Horlivka', 'Ukraine'),\n",
       " ('Hrodna', 'Belarus'),\n",
       " ('Kherson', 'Ukraine'),\n",
       " ('Kiev', 'Ukraine'),\n",
       " ('Kremenchuk', 'Ukraine'),\n",
       " ('Kryvyy Rih', 'Ukraine'),\n",
       " ('Lvov', 'Ukraine'),\n",
       " ('Makiyivka', 'Ukraine'),\n",
       " ('Mazyr', 'Belarus'),\n",
       " ('Minsk', 'Belarus'),\n",
       " ('Nis', 'Serbia'),\n",
       " ('Novi Sad', 'Serbia'),\n",
       " ('Orsha', 'Belarus'),\n",
       " ('Oslo', 'Norway'),\n",
       " ('Pinsk', 'Belarus'),\n",
       " ('Podgorica', 'Montenegro'),\n",
       " ('Rivne', 'Ukraine'),\n",
       " ('Sarajevo', 'Bosnia and Herzegovina'),\n",
       " ('Skopje', 'Macedonia'),\n",
       " ('Stavanger', 'Norway'),\n",
       " ('Sumy', 'Ukraine'),\n",
       " ('Trondheim', 'Norway'),\n",
       " ('Yevpatoriya', 'Ukraine'),\n",
       " ('Zhytomyr', 'Ukraine'),\n",
       " ('Zurich', 'Switzerland'),\n",
       " ('my-city', 'my-country')]"
      ]
     },
     "execution_count": 41,
     "metadata": {},
     "output_type": "execute_result"
    }
   ],
   "source": [
    "%%sql\n",
    "insert into NonEU values ('my-city','my-country');\n",
    "select * from NonEU"
   ]
  },
  {
   "cell_type": "markdown",
   "metadata": {},
   "source": [
    "### <font color = 'green'>Your Turn - Advanced SQL on World Cup Data</font>"
   ]
  },
  {
   "cell_type": "markdown",
   "metadata": {},
   "source": [
    "#### Look at sample of Players and Teams tables"
   ]
  },
  {
   "cell_type": "code",
   "execution_count": 42,
   "metadata": {
    "collapsed": false,
    "scrolled": true
   },
   "outputs": [
    {
     "name": "stdout",
     "output_type": "stream",
     "text": [
      "Done.\n"
     ]
    },
    {
     "data": {
      "text/html": [
       "<table>\n",
       "    <tr>\n",
       "        <th>surname</th>\n",
       "        <th>team</th>\n",
       "        <th>position</th>\n",
       "        <th>minutes</th>\n",
       "        <th>shots</th>\n",
       "        <th>passes</th>\n",
       "        <th>tackles</th>\n",
       "        <th>saves</th>\n",
       "    </tr>\n",
       "    <tr>\n",
       "        <td>Abdoun</td>\n",
       "        <td>Algeria</td>\n",
       "        <td>midfielder</td>\n",
       "        <td>16</td>\n",
       "        <td>0</td>\n",
       "        <td>6</td>\n",
       "        <td>0</td>\n",
       "        <td>0</td>\n",
       "    </tr>\n",
       "    <tr>\n",
       "        <td>Belhadj</td>\n",
       "        <td>Algeria</td>\n",
       "        <td>defender</td>\n",
       "        <td>270</td>\n",
       "        <td>1</td>\n",
       "        <td>146</td>\n",
       "        <td>8</td>\n",
       "        <td>0</td>\n",
       "    </tr>\n",
       "    <tr>\n",
       "        <td>Boudebouz</td>\n",
       "        <td>Algeria</td>\n",
       "        <td>midfielder</td>\n",
       "        <td>74</td>\n",
       "        <td>3</td>\n",
       "        <td>28</td>\n",
       "        <td>1</td>\n",
       "        <td>0</td>\n",
       "    </tr>\n",
       "    <tr>\n",
       "        <td>Bougherra</td>\n",
       "        <td>Algeria</td>\n",
       "        <td>defender</td>\n",
       "        <td>270</td>\n",
       "        <td>1</td>\n",
       "        <td>89</td>\n",
       "        <td>11</td>\n",
       "        <td>0</td>\n",
       "    </tr>\n",
       "    <tr>\n",
       "        <td>Chaouchi</td>\n",
       "        <td>Algeria</td>\n",
       "        <td>goalkeeper</td>\n",
       "        <td>90</td>\n",
       "        <td>0</td>\n",
       "        <td>17</td>\n",
       "        <td>0</td>\n",
       "        <td>2</td>\n",
       "    </tr>\n",
       "</table>"
      ],
      "text/plain": [
       "[('Abdoun', 'Algeria', 'midfielder', 16, 0, 6, 0, 0),\n",
       " ('Belhadj', 'Algeria', 'defender', 270, 1, 146, 8, 0),\n",
       " ('Boudebouz', 'Algeria', 'midfielder', 74, 3, 28, 1, 0),\n",
       " ('Bougherra', 'Algeria', 'defender', 270, 1, 89, 11, 0),\n",
       " ('Chaouchi', 'Algeria', 'goalkeeper', 90, 0, 17, 0, 2)]"
      ]
     },
     "execution_count": 42,
     "metadata": {},
     "output_type": "execute_result"
    }
   ],
   "source": [
    "%%sql\n",
    "select * from Players limit 5"
   ]
  },
  {
   "cell_type": "code",
   "execution_count": 43,
   "metadata": {
    "collapsed": false
   },
   "outputs": [
    {
     "name": "stdout",
     "output_type": "stream",
     "text": [
      "Done.\n"
     ]
    },
    {
     "data": {
      "text/html": [
       "<table>\n",
       "    <tr>\n",
       "        <th>team</th>\n",
       "        <th>ranking</th>\n",
       "        <th>games</th>\n",
       "        <th>wins</th>\n",
       "        <th>draws</th>\n",
       "        <th>losses</th>\n",
       "        <th>goalsFor</th>\n",
       "        <th>goalsAgainst</th>\n",
       "        <th>yellowCards</th>\n",
       "        <th>redCards</th>\n",
       "    </tr>\n",
       "    <tr>\n",
       "        <td>Brazil</td>\n",
       "        <td>1</td>\n",
       "        <td>5</td>\n",
       "        <td>3</td>\n",
       "        <td>1</td>\n",
       "        <td>1</td>\n",
       "        <td>9</td>\n",
       "        <td>4</td>\n",
       "        <td>7</td>\n",
       "        <td>2</td>\n",
       "    </tr>\n",
       "    <tr>\n",
       "        <td>Spain</td>\n",
       "        <td>2</td>\n",
       "        <td>6</td>\n",
       "        <td>5</td>\n",
       "        <td>0</td>\n",
       "        <td>1</td>\n",
       "        <td>7</td>\n",
       "        <td>2</td>\n",
       "        <td>3</td>\n",
       "        <td>0</td>\n",
       "    </tr>\n",
       "    <tr>\n",
       "        <td>Portugal</td>\n",
       "        <td>3</td>\n",
       "        <td>4</td>\n",
       "        <td>1</td>\n",
       "        <td>2</td>\n",
       "        <td>1</td>\n",
       "        <td>7</td>\n",
       "        <td>1</td>\n",
       "        <td>8</td>\n",
       "        <td>1</td>\n",
       "    </tr>\n",
       "    <tr>\n",
       "        <td>Netherlands</td>\n",
       "        <td>4</td>\n",
       "        <td>6</td>\n",
       "        <td>6</td>\n",
       "        <td>0</td>\n",
       "        <td>0</td>\n",
       "        <td>12</td>\n",
       "        <td>5</td>\n",
       "        <td>15</td>\n",
       "        <td>0</td>\n",
       "    </tr>\n",
       "    <tr>\n",
       "        <td>Italy</td>\n",
       "        <td>5</td>\n",
       "        <td>3</td>\n",
       "        <td>0</td>\n",
       "        <td>2</td>\n",
       "        <td>1</td>\n",
       "        <td>4</td>\n",
       "        <td>5</td>\n",
       "        <td>5</td>\n",
       "        <td>0</td>\n",
       "    </tr>\n",
       "</table>"
      ],
      "text/plain": [
       "[('Brazil', 1, 5, 3, 1, 1, 9, 4, 7, 2),\n",
       " ('Spain', 2, 6, 5, 0, 1, 7, 2, 3, 0),\n",
       " ('Portugal', 3, 4, 1, 2, 1, 7, 1, 8, 1),\n",
       " ('Netherlands', 4, 6, 6, 0, 0, 12, 5, 15, 0),\n",
       " ('Italy', 5, 3, 0, 2, 1, 4, 5, 5, 0)]"
      ]
     },
     "execution_count": 43,
     "metadata": {},
     "output_type": "execute_result"
    }
   ],
   "source": [
    "%%sql\n",
    "select * from Teams limit 5"
   ]
  },
  {
   "cell_type": "markdown",
   "metadata": {
    "collapsed": true
   },
   "source": [
    "*1) Find all pairs of teams who have the same number of goalsFor as\n",
    "each other and the same number of goalsAgainst as each other.\n",
    "Return the teams and numbers of goalsFor and goalsAgainst.\n",
    "Make sure to return each pair only once.*"
   ]
  },
  {
   "cell_type": "code",
   "execution_count": 44,
   "metadata": {
    "collapsed": false
   },
   "outputs": [
    {
     "name": "stdout",
     "output_type": "stream",
     "text": [
      "Done.\n"
     ]
    },
    {
     "data": {
      "text/html": [
       "<table>\n",
       "    <tr>\n",
       "        <th>team</th>\n",
       "        <th>team_1</th>\n",
       "        <th>goalsFor</th>\n",
       "        <th>goalsAgainst</th>\n",
       "    </tr>\n",
       "    <tr>\n",
       "        <td>Italy</td>\n",
       "        <td>Mexico</td>\n",
       "        <td>4</td>\n",
       "        <td>5</td>\n",
       "    </tr>\n",
       "    <tr>\n",
       "        <td>England</td>\n",
       "        <td>Nigeria</td>\n",
       "        <td>3</td>\n",
       "        <td>5</td>\n",
       "    </tr>\n",
       "    <tr>\n",
       "        <td>England</td>\n",
       "        <td>South Africa</td>\n",
       "        <td>3</td>\n",
       "        <td>5</td>\n",
       "    </tr>\n",
       "    <tr>\n",
       "        <td>Chile</td>\n",
       "        <td>England</td>\n",
       "        <td>3</td>\n",
       "        <td>5</td>\n",
       "    </tr>\n",
       "    <tr>\n",
       "        <td>Chile</td>\n",
       "        <td>Nigeria</td>\n",
       "        <td>3</td>\n",
       "        <td>5</td>\n",
       "    </tr>\n",
       "    <tr>\n",
       "        <td>Chile</td>\n",
       "        <td>South Africa</td>\n",
       "        <td>3</td>\n",
       "        <td>5</td>\n",
       "    </tr>\n",
       "    <tr>\n",
       "        <td>Cameroon</td>\n",
       "        <td>Greece</td>\n",
       "        <td>2</td>\n",
       "        <td>5</td>\n",
       "    </tr>\n",
       "    <tr>\n",
       "        <td>Australia</td>\n",
       "        <td>Denmark</td>\n",
       "        <td>3</td>\n",
       "        <td>6</td>\n",
       "    </tr>\n",
       "    <tr>\n",
       "        <td>Nigeria</td>\n",
       "        <td>South Africa</td>\n",
       "        <td>3</td>\n",
       "        <td>5</td>\n",
       "    </tr>\n",
       "</table>"
      ],
      "text/plain": [
       "[('Italy', 'Mexico', 4, 5),\n",
       " ('England', 'Nigeria', 3, 5),\n",
       " ('England', 'South Africa', 3, 5),\n",
       " ('Chile', 'England', 3, 5),\n",
       " ('Chile', 'Nigeria', 3, 5),\n",
       " ('Chile', 'South Africa', 3, 5),\n",
       " ('Cameroon', 'Greece', 2, 5),\n",
       " ('Australia', 'Denmark', 3, 6),\n",
       " ('Nigeria', 'South Africa', 3, 5)]"
      ]
     },
     "execution_count": 44,
     "metadata": {},
     "output_type": "execute_result"
    }
   ],
   "source": [
    "%%sql\n",
    "select C1.team, C2.team, C1.goalsFor, C1.goalsAgainst\n",
    "from Teams C1, Teams C2\n",
    "where C1.goalsFor = C2.goalsFor and C1.goalsAgainst = C2.goalsAgainst\n",
    "and C1.team < C2.team"
   ]
  },
  {
   "cell_type": "markdown",
   "metadata": {
    "collapsed": true
   },
   "source": [
    "*2) Find all teams with ranking <30 where no player made more than 150 passes. Return the team and ranking.*"
   ]
  },
  {
   "cell_type": "code",
   "execution_count": 45,
   "metadata": {
    "collapsed": false
   },
   "outputs": [
    {
     "name": "stdout",
     "output_type": "stream",
     "text": [
      "Done.\n"
     ]
    },
    {
     "data": {
      "text/html": [
       "<table>\n",
       "    <tr>\n",
       "        <th>team</th>\n",
       "        <th>ranking</th>\n",
       "    </tr>\n",
       "    <tr>\n",
       "        <td>Argentina</td>\n",
       "        <td>7</td>\n",
       "    </tr>\n",
       "    <tr>\n",
       "        <td>Australia</td>\n",
       "        <td>20</td>\n",
       "    </tr>\n",
       "    <tr>\n",
       "        <td>Brazil</td>\n",
       "        <td>1</td>\n",
       "    </tr>\n",
       "    <tr>\n",
       "        <td>Cameroon</td>\n",
       "        <td>19</td>\n",
       "    </tr>\n",
       "    <tr>\n",
       "        <td>Chile</td>\n",
       "        <td>18</td>\n",
       "    </tr>\n",
       "    <tr>\n",
       "        <td>England</td>\n",
       "        <td>8</td>\n",
       "    </tr>\n",
       "    <tr>\n",
       "        <td>Germany</td>\n",
       "        <td>6</td>\n",
       "    </tr>\n",
       "    <tr>\n",
       "        <td>Greece</td>\n",
       "        <td>13</td>\n",
       "    </tr>\n",
       "    <tr>\n",
       "        <td>Italy</td>\n",
       "        <td>5</td>\n",
       "    </tr>\n",
       "    <tr>\n",
       "        <td>Ivory Coast</td>\n",
       "        <td>27</td>\n",
       "    </tr>\n",
       "    <tr>\n",
       "        <td>Mexico</td>\n",
       "        <td>17</td>\n",
       "    </tr>\n",
       "    <tr>\n",
       "        <td>Netherlands</td>\n",
       "        <td>4</td>\n",
       "    </tr>\n",
       "    <tr>\n",
       "        <td>Portugal</td>\n",
       "        <td>3</td>\n",
       "    </tr>\n",
       "    <tr>\n",
       "        <td>Serbia</td>\n",
       "        <td>15</td>\n",
       "    </tr>\n",
       "    <tr>\n",
       "        <td>Slovenia</td>\n",
       "        <td>25</td>\n",
       "    </tr>\n",
       "    <tr>\n",
       "        <td>Spain</td>\n",
       "        <td>2</td>\n",
       "    </tr>\n",
       "    <tr>\n",
       "        <td>Uruguay</td>\n",
       "        <td>16</td>\n",
       "    </tr>\n",
       "    <tr>\n",
       "        <td>USA</td>\n",
       "        <td>14</td>\n",
       "    </tr>\n",
       "</table>"
      ],
      "text/plain": [
       "[('Argentina', 7),\n",
       " ('Australia', 20),\n",
       " ('Brazil', 1),\n",
       " ('Cameroon', 19),\n",
       " ('Chile', 18),\n",
       " ('England', 8),\n",
       " ('Germany', 6),\n",
       " ('Greece', 13),\n",
       " ('Italy', 5),\n",
       " ('Ivory Coast', 27),\n",
       " ('Mexico', 17),\n",
       " ('Netherlands', 4),\n",
       " ('Portugal', 3),\n",
       " ('Serbia', 15),\n",
       " ('Slovenia', 25),\n",
       " ('Spain', 2),\n",
       " ('Uruguay', 16),\n",
       " ('USA', 14)]"
      ]
     },
     "execution_count": 45,
     "metadata": {},
     "output_type": "execute_result"
    }
   ],
   "source": [
    "%%sql\n",
    "select DISTINCT C1.team, C2.ranking\n",
    "from Players C1, Teams C2\n",
    "where C1.team = C2.team\n",
    "and C2.ranking < 30 and C1.passes > 150"
   ]
  },
  {
   "cell_type": "markdown",
   "metadata": {
    "collapsed": true
   },
   "source": [
    "*3) Which team has the highest ratio of goalsFor to goalsAgainst?*"
   ]
  },
  {
   "cell_type": "code",
   "execution_count": 46,
   "metadata": {
    "collapsed": false,
    "scrolled": true
   },
   "outputs": [
    {
     "name": "stdout",
     "output_type": "stream",
     "text": [
      "Done.\n"
     ]
    },
    {
     "data": {
      "text/html": [
       "<table>\n",
       "    <tr>\n",
       "        <th>team</th>\n",
       "        <th>max(goalsAgainst)</th>\n",
       "    </tr>\n",
       "    <tr>\n",
       "        <td>North Korea</td>\n",
       "        <td>12</td>\n",
       "    </tr>\n",
       "</table>"
      ],
      "text/plain": [
       "[('North Korea', 12)]"
      ]
     },
     "execution_count": 46,
     "metadata": {},
     "output_type": "execute_result"
    }
   ],
   "source": [
    "%%sql\n",
    "select team , max(goalsAgainst)\n",
    "from Teams "
   ]
  },
  {
   "cell_type": "code",
   "execution_count": 47,
   "metadata": {
    "collapsed": false
   },
   "outputs": [
    {
     "name": "stdout",
     "output_type": "stream",
     "text": [
      "Done.\n"
     ]
    },
    {
     "data": {
      "text/html": [
       "<table>\n",
       "    <tr>\n",
       "        <th>team</th>\n",
       "        <th>max(goalsFor)</th>\n",
       "    </tr>\n",
       "    <tr>\n",
       "        <td>Germany</td>\n",
       "        <td>13</td>\n",
       "    </tr>\n",
       "</table>"
      ],
      "text/plain": [
       "[('Germany', 13)]"
      ]
     },
     "execution_count": 47,
     "metadata": {},
     "output_type": "execute_result"
    }
   ],
   "source": [
    "%%sql\n",
    "select team , max(goalsFor)\n",
    "from Teams "
   ]
  },
  {
   "cell_type": "markdown",
   "metadata": {
    "collapsed": true
   },
   "source": [
    "*4) Find all team-position pairs where the average number of passes made by players in that position on that team is greater than 150. Return the team-position pairs.*"
   ]
  },
  {
   "cell_type": "code",
   "execution_count": 48,
   "metadata": {
    "collapsed": false
   },
   "outputs": [
    {
     "name": "stdout",
     "output_type": "stream",
     "text": [
      "Done.\n"
     ]
    },
    {
     "data": {
      "text/html": [
       "<table>\n",
       "    <tr>\n",
       "        <th>team</th>\n",
       "        <th>position</th>\n",
       "    </tr>\n",
       "    <tr>\n",
       "        <td>Netherlands</td>\n",
       "        <td>forward</td>\n",
       "    </tr>\n",
       "    <tr>\n",
       "        <td>Spain</td>\n",
       "        <td>midfielder</td>\n",
       "    </tr>\n",
       "</table>"
      ],
      "text/plain": [
       "[('Netherlands', 'forward'), ('Spain', 'midfielder')]"
      ]
     },
     "execution_count": 48,
     "metadata": {},
     "output_type": "execute_result"
    }
   ],
   "source": [
    "%%sql\n",
    "select team, position\n",
    "from Players\n",
    "group by team\n",
    "having avg(passes) > 150"
   ]
  },
  {
   "cell_type": "markdown",
   "metadata": {
    "collapsed": true
   },
   "source": [
    "*5) Find all teams whose defenders averaged more than 150 passes. Return the team and average number of passes by defenders, in descending order of average passes.*"
   ]
  },
  {
   "cell_type": "code",
   "execution_count": 49,
   "metadata": {
    "collapsed": false
   },
   "outputs": [
    {
     "name": "stdout",
     "output_type": "stream",
     "text": [
      "Done.\n"
     ]
    },
    {
     "data": {
      "text/html": [
       "<table>\n",
       "    <tr>\n",
       "        <th>team</th>\n",
       "        <th>avg(passes)</th>\n",
       "    </tr>\n",
       "    <tr>\n",
       "        <td>Brazil</td>\n",
       "        <td>190.0</td>\n",
       "    </tr>\n",
       "    <tr>\n",
       "        <td>Germany</td>\n",
       "        <td>189.83333333333334</td>\n",
       "    </tr>\n",
       "    <tr>\n",
       "        <td>Mexico</td>\n",
       "        <td>152.14285714285714</td>\n",
       "    </tr>\n",
       "    <tr>\n",
       "        <td>Netherlands</td>\n",
       "        <td>182.5</td>\n",
       "    </tr>\n",
       "    <tr>\n",
       "        <td>Spain</td>\n",
       "        <td>213.0</td>\n",
       "    </tr>\n",
       "</table>"
      ],
      "text/plain": [
       "[('Brazil', 190.0),\n",
       " ('Germany', 189.83333333333334),\n",
       " ('Mexico', 152.14285714285714),\n",
       " ('Netherlands', 182.5),\n",
       " ('Spain', 213.0)]"
      ]
     },
     "execution_count": 49,
     "metadata": {},
     "output_type": "execute_result"
    }
   ],
   "source": [
    "%%sql\n",
    "select team, avg(passes)\n",
    "from Players\n",
    "where position = 'defender'\n",
    "group by team\n",
    "having avg(passes) > 150"
   ]
  },
  {
   "cell_type": "markdown",
   "metadata": {
    "collapsed": false
   },
   "source": [
    "*6) Which team has the highest average number of passes per minute played? Return the team and average passes per minute. Note: To force floating point division, multiply one operand by 1.0. Hints: (1) You can compute a team's average number of passes per minute played by dividing the total number of passes by the total number of minutes. (2) Consider using Limit.*"
   ]
  },
  {
   "cell_type": "code",
   "execution_count": 50,
   "metadata": {
    "collapsed": false
   },
   "outputs": [
    {
     "name": "stdout",
     "output_type": "stream",
     "text": [
      "Done.\n"
     ]
    },
    {
     "data": {
      "text/html": [
       "<table>\n",
       "    <tr>\n",
       "        <th>team</th>\n",
       "        <th>max(avg_passes)</th>\n",
       "    </tr>\n",
       "    <tr>\n",
       "        <td>Spain</td>\n",
       "        <td>0.6452722798993414</td>\n",
       "    </tr>\n",
       "</table>"
      ],
      "text/plain": [
       "[('Spain', 0.6452722798993414)]"
      ]
     },
     "execution_count": 50,
     "metadata": {},
     "output_type": "execute_result"
    }
   ],
   "source": [
    "%%sql\n",
    "select team,max(avg_passes)\n",
    "from \n",
    "(\n",
    "select team, avg(passes*1.0/minutes) as avg_passes\n",
    "from Players\n",
    "group by team\n",
    "having max(passes*1.0/minutes)\n",
    ")"
   ]
  }
 ],
 "metadata": {
  "kernelspec": {
   "display_name": "Python 3",
   "language": "python",
   "name": "python3"
  },
  "language_info": {
   "codemirror_mode": {
    "name": "ipython",
    "version": 3
   },
   "file_extension": ".py",
   "mimetype": "text/x-python",
   "name": "python",
   "nbconvert_exporter": "python",
   "pygments_lexer": "ipython3",
   "version": "3.5.2"
  }
 },
 "nbformat": 4,
 "nbformat_minor": 0
}
